{
 "cells": [
  {
   "cell_type": "code",
   "execution_count": 1,
   "id": "10d9a93b-ae62-445a-94de-c8da6df4619e",
   "metadata": {},
   "outputs": [],
   "source": [
    "import os\n",
    "import glob\n",
    "import numpy as np\n",
    "import pandas as pd\n",
    "import nibabel as nib\n",
    "from nilearn import image, masking, input_data"
   ]
  },
  {
   "cell_type": "code",
   "execution_count": null,
   "id": "78f727bf-f169-41e1-a05d-04c2094f5e2b",
   "metadata": {},
   "outputs": [],
   "source": [
    "\n",
    "\n",
    "base_dir = '/Users/li/Desktop/debate2025/braindata'\n",
    "\n",
    "denoised = 'denoised 6'\n",
    "\n",
    "Schaefer_mask_file = '/Users/li/Desktop/template/Schaefer/tpl-MNI152NLin2009cAsym_res-02_atlas-Schaefer2018_desc-200Parcels7Networks_dseg.nii.gz'\n",
    "roi_label_file = '/Users/li/Desktop/template/Schaefer/Schaefer2018_200Parcels_7Networks_order_FSLMNI152_2mm.Centroid_RAS.csv'\n",
    "\n",
    "# 加载模板和ROI标签\n",
    "Schaefer_mask = nib.load(Schaefer_mask_file)\n",
    "roi_label = pd.read_csv(roi_label_file)['ROI Name'].values.tolist()\n",
    "\n",
    "# 查找感兴趣的ROI\n",
    "desired_roi = '7Networks_LH_Default_PFC_8'\n",
    "roi_index = roi_label.index(desired_roi) + 1  # Schaefer atlas的索引从1开始\n",
    "\n",
    "mask_data = Schaefer_mask.get_fdata()\n",
    "roi_voxel_data = mask_data == roi_index\n",
    "# 创建被试列表\n",
    "sub_list = [f'sub-{x:0>3d}' for x in range(13, 51)]\n",
    "run_list = [1,2,3,4,5,6]\n",
    "# 遍历每个被试\n",
    "for sub in sub_list:\n",
    "    \n",
    "    new_folder_path = os.path.join(base_dir, denoised, 'ROI Spatial Pattern', desired_roi, sub)\n",
    "    if not os.path.exists(new_folder_path):\n",
    "        os.makedirs(new_folder_path)\n",
    "\n",
    "    for run in run_list:\n",
    "        run_file = f'/Volumes/Li/task-debate/braindata/{denoised}/denoised/{sub}/{sub}_task-debate_run-{run}_denoised_smooth0mm_space-MNI152NLin2009cAsym_res-2_bold.nii.gz'\n",
    "        run_file = nib.load(run_file)\n",
    "        run_data = run_file.get_fdata()\n",
    "\n",
    "        # 提取感兴趣ROI的时间序列\n",
    "        roi_time_series = run_data[roi_voxel_data]\n",
    "\n",
    "        # 保存时间序列数据，可以根据需要进行进一步处理\n",
    "        output_file = os.path.join(new_folder_path, f'{sub}_run-{run}_{desired_roi}_voxel_time_series.npy')\n",
    "        np.save(output_file, roi_time_series)\n",
    "        # print(roi_time_series.shape, sep = '\\t')\n",
    "        # print(f'Subject {sub}, Run {run}: ROI time series saved to {output_file}')\n",
    "\n",
    "    print(f'{sub} Done!')\n",
    "    print('-----------------------------------------------')\n"
   ]
  }
 ],
 "metadata": {
  "kernelspec": {
   "display_name": "Python 3 (ipykernel)",
   "language": "python",
   "name": "python3"
  },
  "language_info": {
   "codemirror_mode": {
    "name": "ipython",
    "version": 3
   },
   "file_extension": ".py",
   "mimetype": "text/x-python",
   "name": "python",
   "nbconvert_exporter": "python",
   "pygments_lexer": "ipython3",
   "version": "3.12.7"
  }
 },
 "nbformat": 4,
 "nbformat_minor": 5
}
