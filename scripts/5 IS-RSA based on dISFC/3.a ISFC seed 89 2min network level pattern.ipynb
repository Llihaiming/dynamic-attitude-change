{
 "cells": [
  {
   "cell_type": "code",
   "execution_count": 1,
   "id": "cac36384-8a15-49e0-9bee-b5839a92041a",
   "metadata": {},
   "outputs": [],
   "source": [
    "%matplotlib inline\n",
    "\n",
    "import os\n",
    "import glob\n",
    "import numpy as np\n",
    "import pandas as pd\n",
    "from IPython.display import HTML\n",
    "import networkx as nx\n",
    "\n",
    "from numpy.fft import fft, ifft, fftfreq\n",
    "\n",
    "from scipy.spatial.distance import pdist, squareform\n",
    "from scipy.stats import rankdata, ttest_rel, ttest_1samp, pearsonr,spearmanr\n",
    "from scipy.signal import hilbert\n",
    "\n",
    "import seaborn as sns\n",
    "import matplotlib.pyplot as plt\n",
    "import matplotlib.lines as mlinesÒ\n",
    "import matplotlib.transforms as mtransforms\n",
    "from matplotlib import gridspec\n",
    "from matplotlib.animation import FuncAnimation\n",
    "\n",
    "import nibabel as nib\n",
    "from nilearn.input_data import NiftiLabelsMasker\n",
    "from nilearn.plotting import plot_glass_brain, plot_stat_map, view_img, view_img_on_surf\n",
    "from nilearn.image import new_img_like\n",
    "\n",
    "from nltools.data import Brain_Data, Adjacency\n",
    "from nltools.mask import roi_to_brain, expand_mask\n",
    "from nltools.stats import isc, isfc\n",
    "from sklearn.metrics import pairwise_distances\n",
    "from sklearn.preprocessing import StandardScaler\n",
    "\n",
    "import statsmodels.api as sm\n",
    "from statsmodels.formula.api import mixedlm\n",
    "from statsmodels.stats.multitest import multipletests\n",
    "\n",
    "import warnings\n",
    "warnings.filterwarnings('ignore')\n"
   ]
  },
  {
   "cell_type": "code",
   "execution_count": 2,
   "id": "21341e25-7ed5-4780-8b4c-4bee4765ede9",
   "metadata": {},
   "outputs": [],
   "source": [
    "from sklearn.preprocessing import StandardScaler\n",
    "from sklearn.linear_model import LinearRegression\n",
    "import numpy as np\n",
    "\n",
    "def regress_out(vec, control_matrices, upper_triangle_indices, standardize):\n",
    "    \"\"\"\n",
    "    对给定的向量进行回归，剥离控制变量的影响，先标准化再回归（可选）。\n",
    "    \n",
    "    参数:\n",
    "    - vec: np.array, 待剥离影响的向量\n",
    "    - control_matrices: list of np.array, 控制变量的矩阵列表\n",
    "    - upper_triangle_indices: tuple, 矩阵上三角的索引\n",
    "    - standardize: bool, 是否先标准化数据，默认值为 True\n",
    "    \n",
    "    返回:\n",
    "    - residuals: np.array, 回归后的残差\n",
    "    \"\"\"\n",
    "    if control_matrices is None or len(control_matrices) == 0:\n",
    "        return vec  # 如果没有控制变量，直接返回原始向量\n",
    "    \n",
    "    # 如果需要标准化，先标准化 vec\n",
    "    if standardize:\n",
    "        scaler = StandardScaler()\n",
    "        vec_scaled = scaler.fit_transform(vec.reshape(-1, 1)).flatten()\n",
    "    else:\n",
    "        vec_scaled = vec\n",
    "    \n",
    "    # 收集控制变量的标准化版本（如果需要）\n",
    "    control_vectors = []\n",
    "    for control_matrix in control_matrices:\n",
    "        control_vec = control_matrix[upper_triangle_indices]\n",
    "        if standardize:\n",
    "            control_vec_scaled = scaler.fit_transform(control_vec.reshape(-1, 1)).flatten()\n",
    "        else:\n",
    "            control_vec_scaled = control_vec\n",
    "        control_vectors.append(control_vec_scaled)\n",
    "    \n",
    "    # 拼接控制变量矩阵\n",
    "    control_matrix = np.column_stack(control_vectors)\n",
    "\n",
    "    # 执行回归\n",
    "    model = LinearRegression().fit(control_matrix, vec_scaled)\n",
    "    \n",
    "    # 计算残差\n",
    "    residuals = vec_scaled - model.predict(control_matrix)\n",
    "    \n",
    "    return residuals\n",
    "\n",
    "def mantel_with_multiple_controls(matrix1, matrix2, control_matrices=None, corr_type='spearman', permutations=1000, tail=2, standardize=True):\n",
    "    \"\"\"\n",
    "    执行带有多个控制变量的 Mantel Test，包含置换检验。\n",
    "    \n",
    "    参数:\n",
    "    - matrix1: np.array, 第一个距离矩阵 (NxN)\n",
    "    - matrix2: np.array, 第二个距离矩阵 (NxN)\n",
    "    - control_matrices: list of np.array, 控制变量的矩阵列表（默认为 None）\n",
    "    - permutations: int, 置换次数\n",
    "    - tail: int, p值的类型，1 表示单尾，2 表示双尾\n",
    "    \n",
    "    返回:\n",
    "    - r_obs: 观察到的 Pearson 或 Spearman 相关系数\n",
    "    - p_value: 置换检验的 p 值\n",
    "    \"\"\"\n",
    "    # 确保输入矩阵是方阵\n",
    "    assert matrix1.shape == matrix2.shape, \"两个矩阵的形状必须相同\"\n",
    "    assert matrix1.shape[0] == matrix1.shape[1], \"输入必须是方阵\"\n",
    "    \n",
    "    # 提取上三角部分（不包括对角线）\n",
    "    upper_triangle_indices = np.triu_indices_from(matrix1, k=1)\n",
    "    vec1 = matrix1[upper_triangle_indices]\n",
    "    vec2 = matrix2[upper_triangle_indices]\n",
    "    \n",
    "    # 对每个控制矩阵进行回归，剥离控制变量的影响\n",
    "    residuals1 = regress_out(vec1, control_matrices, upper_triangle_indices,standardize=standardize)\n",
    "    residuals2 = regress_out(vec2, control_matrices, upper_triangle_indices,standardize=standardize)\n",
    "    \n",
    "    # 计算观察到的相关系数\n",
    "    if corr_type == 'pearson':\n",
    "        r_obs, _ = pearsonr(residuals1, residuals2)\n",
    "    elif corr_type == 'spearman':\n",
    "        r_obs, _ = spearmanr(residuals1, residuals2)\n",
    "    \n",
    "    # 进行置换检验\n",
    "    permuted_r = []\n",
    "    n = matrix1.shape[0]\n",
    "    \n",
    "    for _ in range(permutations):\n",
    "        # 随机打乱行列索引\n",
    "        perm_indices = np.random.permutation(n)\n",
    "        \n",
    "        # 重新排列矩阵\n",
    "        perm_matrix2 = matrix2[np.ix_(perm_indices, perm_indices)]\n",
    "        \n",
    "        # 对每个控制变量矩阵也进行相同的置换（如果存在控制变量）\n",
    "        perm_control_matrices = []\n",
    "        if control_matrices is not None:\n",
    "            for control_matrix in control_matrices:\n",
    "                perm_control_matrix = control_matrix[np.ix_(perm_indices, perm_indices)]\n",
    "                perm_control_matrices.append(perm_control_matrix)\n",
    "        \n",
    "        # 提取置换后的上三角部分\n",
    "        perm_vec2 = perm_matrix2[upper_triangle_indices]\n",
    "        \n",
    "        # 对置换后的矩阵进行回归，剥离控制变量的影响\n",
    "        perm_residuals2 = regress_out(perm_vec2, perm_control_matrices, upper_triangle_indices, standardize=standardize)\n",
    "        \n",
    "        # 计算置换后的相关系数\n",
    "        if corr_type == 'pearson':\n",
    "            r_perm, _ = pearsonr(residuals1, perm_residuals2)\n",
    "        elif corr_type == 'spearman':\n",
    "            r_perm, _ = spearmanr(residuals1, perm_residuals2)\n",
    "        \n",
    "        permuted_r.append(r_perm)\n",
    "    \n",
    "    # 计算双尾或单尾 p 值\n",
    "    p_value = _calc_pvalue(np.array(permuted_r), r_obs, tail)\n",
    "    \n",
    "    return r_obs, p_value\n",
    "\n",
    "def _calc_pvalue(all_p, stat, tail):\n",
    "    \"\"\"计算基于置换分布的 p 值\n",
    "    \n",
    "    参数：\n",
    "    - all_p: 置换分布的相关系数列表\n",
    "    - stat: 观察到的统计量（如统计结果中的相关系数）\n",
    "    - tail: (int) 1 或 2，表示单尾或双尾 p 值\n",
    "    \n",
    "    返回：\n",
    "    - p_value: 计算得到的 p 值\n",
    "    \"\"\"\n",
    "    denom = float(len(all_p)) + 1\n",
    "    if tail == 1:\n",
    "        numer = np.sum(all_p >= stat) + 1 if stat >= 0 else np.sum(all_p <= stat) + 1\n",
    "    elif tail == 2:\n",
    "        numer = np.sum(np.abs(all_p) >= np.abs(stat)) + 1\n",
    "    else:\n",
    "        raise ValueError(\"tail 必须是 1 或 2\")\n",
    "    return numer / denom\n"
   ]
  },
  {
   "cell_type": "code",
   "execution_count": 3,
   "id": "b77b50c3-6530-4968-a402-a86b82bb7f5c",
   "metadata": {},
   "outputs": [],
   "source": [
    "\n",
    "base_dir = '/Users/li/Desktop/debate/braindata'\n",
    "\n",
    "sub_list = [f'sub-{x:0>3d}' for x in range(13,51)]\n",
    "sub_list.remove('sub-021')\n",
    "\n",
    "subs_roi_data = []\n",
    "for sub in sub_list:\n",
    "    csv_file = f'/Volumes/Li/task-debate/braindata/denoised 5/parcel data/Schaefer 200 combine 6 runs/{sub}_combined_time-series_Schaefer2018_200Parcels_7Networks.csv'\n",
    "    sub_data = pd.read_csv(csv_file)\n",
    "    subs_roi_data.append(sub_data.values)\n",
    "\n",
    "all_brain_data = np.array(subs_roi_data)\n",
    "\n",
    "mask_file = '/Users/li/Desktop/template/Schaefer/tpl-MNI152NLin2009cAsym_res-02_atlas-Schaefer2018_desc-200Parcels7Networks_dseg.nii.gz'\n",
    "mask_img = nib.load(mask_file)\n",
    "mask_data = mask_img.get_fdata()\n",
    "\n",
    "nw_labels = pd.read_csv('/Users/li/Desktop/template/Schaefer/Schaefer2018_200Parcels_7Networks_order_FSLMNI152_2mm.Centroid_RAS.csv')\n",
    "roi_name = list(nw_labels['ROI Name'])\n"
   ]
  },
  {
   "cell_type": "code",
   "execution_count": 9,
   "id": "028e7f6f-39f8-468f-be97-bdde0a1774a0",
   "metadata": {},
   "outputs": [
    {
     "name": "stdout",
     "output_type": "stream",
     "text": [
      "(37, 25)\n",
      "(37, 37)\n"
     ]
    }
   ],
   "source": [
    "bahav_data_dir = '/Users/li/Desktop/task-debate/behavdata'\n",
    "\n",
    "sub_list_num = list(range(13,51))\n",
    "sub_list_num.remove(21)\n",
    "\n",
    "# time_points = list(range(0,3000,60)) + [2986]  # every 1 minute\n",
    "time_points = list(range(0,3000,120)) + [2986] # every 2 min\n",
    "# time_points = list(range(0,3000,300)) + [2986] # every 5 min\n",
    "# time_points = [0, 252, 500, 772, 1098, 1484, 1892, 2464, 2986] # every speaker\n",
    "# time_points = list(range(0,2987,2)) # every TR\n",
    "\n",
    "# time_points = [0,80,168,208,252, \n",
    "#                326,364,464,500,\n",
    "#                538,588,686,772,\n",
    "#                860,986,1026,1098,\n",
    "#                1204,1250,1406,1484,\n",
    "#                1578,1722,1810,1892,\n",
    "#                1972,2114,2216,2464,\n",
    "#                2628,2756,2986] \n",
    "\n",
    "all_subject_data = []\n",
    "for sub in sub_list_num:\n",
    "    file_path = os.path.join(bahav_data_dir, 'during_scan', 'combined_6runs_per_TR_filter', f'subject_{sub}_TR_rate.csv')\n",
    "    \n",
    "    df = pd.read_csv(file_path)\n",
    "    sub_data = df[df['time'].isin(time_points)]\n",
    "    all_subject_data.append(list(sub_data['rate']))\n",
    "    \n",
    "attitude = pd.DataFrame(all_subject_data)\n",
    "\n",
    "start_attitude = pd.DataFrame(attitude)[0]\n",
    "start_attitude_SM = -np.abs(start_attitude.values[:, np.newaxis] - start_attitude.values)\n",
    "\n",
    "attitude_change = attitude.diff(axis=1)\n",
    "attitude_change = attitude_change.drop(attitude_change.columns[0], axis=1)\n",
    "print(attitude_change.shape)\n",
    "\n",
    "attitude_change_distances = -pdist(attitude_change)\n",
    "# attitude_change_distances = -np.sqrt(pdist(attitude_change))\n",
    "# attitude_change_distances = -np.log(pdist(attitude_change))\n",
    "attitude_change_SM = squareform(attitude_change_distances)\n",
    "print(attitude_change_SM.shape)\n",
    "\n",
    "# sns.heatmap(attitude_change_SM)\n"
   ]
  },
  {
   "cell_type": "code",
   "execution_count": 11,
   "id": "d4b194f2-e234-4ada-b23b-2d9c7d23efab",
   "metadata": {},
   "outputs": [],
   "source": [
    "\n",
    "subjects = list(range(13,51))\n",
    "subjects.remove(21)\n",
    "\n",
    "personality = pd.read_csv('/Users/li/Desktop/task-debate/behavdata/questionire_data/personality.csv')\n",
    "\n",
    "selected_data = personality[personality['sub'].isin(subjects)]\n",
    "selected_data = selected_data.set_index('sub').loc[subjects]\n",
    "\n",
    "ages = selected_data['age'].values\n",
    "age_diff_matrix = np.abs(ages[:, np.newaxis] - ages)\n",
    "\n",
    "sex = selected_data['sex'].values\n",
    "sex_diff_matrix = np.abs(sex[:, np.newaxis] - sex)\n",
    "\n",
    "IUS = selected_data['IUS'].values\n",
    "joint_IUS = (IUS[:, np.newaxis] + IUS)/2\n",
    "\n"
   ]
  },
  {
   "cell_type": "code",
   "execution_count": 13,
   "id": "747efb34-6b04-4aef-975a-30d318d53d9f",
   "metadata": {},
   "outputs": [
    {
     "name": "stdout",
     "output_type": "stream",
     "text": [
      "(37, 199, 1464)\n"
     ]
    }
   ],
   "source": [
    "subs_dISFC = np.load('/Users/li/Desktop/debate2025/results/subs_dISFC_seed89.npy')\n",
    "subs_dISFC = np.arctanh(subs_dISFC)\n",
    "print(subs_dISFC.shape)"
   ]
  },
  {
   "cell_type": "code",
   "execution_count": 15,
   "id": "27ffda52-bf4d-480c-bcc0-3a01ffe58bd0",
   "metadata": {},
   "outputs": [
    {
     "name": "stdout",
     "output_type": "stream",
     "text": [
      "45 [73, 74, 75, 76, 77, 78, 79, 80, 81, 82, 83, 84, 85, 86, 87, 88, 89, 90, 91, 92, 93, 94, 95, 96, 97, 98, 180, 181, 182, 183, 184, 185, 186, 187, 188, 189, 190, 191, 192, 193, 194, 195, 196, 197, 198]\n"
     ]
    }
   ],
   "source": [
    "nw_labels = pd.read_csv('/Users/li/Desktop/template/Schaefer/Schaefer2018_200Parcels_7Networks_order_FSLMNI152_2mm.Centroid_RAS.csv')\n",
    "nw_labels = nw_labels[nw_labels[\"ROI Label\"] != 90].reset_index(drop=True)\n",
    "\n",
    "vis, sm, da, va, limb, cont, default = [],[],[],[],[],[],[]\n",
    "for i in range(199):\n",
    "    net_name = nw_labels['ROI Name'][i].split('_')[2] \n",
    "    if net_name == 'Vis':\n",
    "        vis.append(i)\n",
    "    elif net_name == 'SomMot':\n",
    "        sm.append(i)\n",
    "    elif net_name == 'DorsAttn':\n",
    "        da.append(i)\n",
    "    elif net_name == 'SalVentAttn':\n",
    "        va.append(i)\n",
    "    elif net_name == 'Limbic':\n",
    "        limb.append(i)\n",
    "    elif net_name == 'Cont':\n",
    "        cont.append(i)\n",
    "    elif net_name == 'Default':\n",
    "        default.append(i)\n",
    "        \n",
    "nets = [vis, sm, da, va, limb, cont, default]\n",
    "nets_name = ['vis', 'sm', 'da', 'va', 'limb', 'cont', 'default']\n",
    "print(len(default),default) "
   ]
  },
  {
   "cell_type": "code",
   "execution_count": 17,
   "id": "295f9f49-614c-4b4c-b9e0-7e8a504cf934",
   "metadata": {},
   "outputs": [
    {
     "data": {
      "text/plain": [
       "85.03767484143397"
      ]
     },
     "execution_count": 17,
     "metadata": {},
     "output_type": "execute_result"
    }
   ],
   "source": [
    "subs_default_dISFC = subs_dISFC[:,default,:]\n",
    "from skimage.metrics import structural_similarity as ssim\n",
    "A = subs_default_dISFC[0]\n",
    "B = subs_default_dISFC[1]\n",
    "similarity = np.linalg.norm(A - B, ord='fro')\n",
    "\n",
    "similarity"
   ]
  },
  {
   "cell_type": "code",
   "execution_count": 19,
   "id": "13b574b6-a3c3-4c4d-ab91-e2703935ab5e",
   "metadata": {},
   "outputs": [
    {
     "data": {
      "text/plain": [
       "array([[   0.        ,  -85.03767484,  -89.4369307 , ...,  -89.24111667,\n",
       "         -93.73789294,  -84.85079836],\n",
       "       [ -85.03767484,    0.        ,  -80.94752995, ...,  -93.63978232,\n",
       "         -91.7754399 ,  -81.67532469],\n",
       "       [ -89.4369307 ,  -80.94752995,    0.        , ..., -100.52961248,\n",
       "         -92.14301979,  -82.12711355],\n",
       "       ...,\n",
       "       [ -89.24111667,  -93.63978232, -100.52961248, ...,    0.        ,\n",
       "         -98.99901365,  -92.86559062],\n",
       "       [ -93.73789294,  -91.7754399 ,  -92.14301979, ...,  -98.99901365,\n",
       "           0.        ,  -93.7182142 ],\n",
       "       [ -84.85079836,  -81.67532469,  -82.12711355, ...,  -92.86559062,\n",
       "         -93.7182142 ,    0.        ]])"
      ]
     },
     "execution_count": 19,
     "metadata": {},
     "output_type": "execute_result"
    }
   ],
   "source": [
    "subs_similarity = np.zeros((37,37))\n",
    "for i in list(range(37)):\n",
    "    for j in list(range(37)):\n",
    "        if i!=j:\n",
    "            A = subs_default_dISFC[i,:,:]\n",
    "            B = subs_default_dISFC[j,:,:]\n",
    "            similarity = - np.linalg.norm(A - B, ord='fro')\n",
    "            subs_similarity[i,j] = similarity\n",
    "subs_similarity      "
   ]
  },
  {
   "cell_type": "code",
   "execution_count": 21,
   "id": "1208c1d6-b7b5-4a42-9684-5daeab82c0c6",
   "metadata": {},
   "outputs": [
    {
     "name": "stderr",
     "output_type": "stream",
     "text": [
      "\n",
      "KeyboardInterrupt\n",
      "\n"
     ]
    }
   ],
   "source": [
    "mantel_with_multiple_controls(attitude_change_SM, subs_similarity,\n",
    "                                        standardize=True, corr_type='pearson',\n",
    "                                        control_matrices = [start_attitude_SM, sex_diff_matrix, age_diff_matrix], \n",
    "                                        permutations=10000,tail=2)"
   ]
  },
  {
   "cell_type": "code",
   "execution_count": null,
   "id": "74121dc9-6850-4732-baea-da76d80afe87",
   "metadata": {},
   "outputs": [],
   "source": [
    "mantel_with_multiple_controls(attitude_change_SM, subs_similarity,\n",
    "                                        standardize=True, corr_type='pearson',\n",
    "                                        # control_matrices = [start_attitude_SM, sex_diff_matrix, age_diff_matrix], \n",
    "                                        permutations=10000,tail=2)"
   ]
  },
  {
   "cell_type": "code",
   "execution_count": null,
   "id": "90e7d9cc-f709-432e-ad31-117f0da5a3af",
   "metadata": {},
   "outputs": [],
   "source": []
  },
  {
   "cell_type": "code",
   "execution_count": 93,
   "id": "30fd27ec-80d1-4e21-96ff-3b1db864305b",
   "metadata": {},
   "outputs": [],
   "source": [
    "distance_matrices = np.zeros((37, 1464, 1464))\n",
    "for i in range(37):\n",
    "    subject_data = subs_default_dISFC[i].T  # (1464, 45)\n",
    "    corr_matrix = np.corrcoef(subject_data)  # 皮尔逊相关系数\n",
    "    distance_matrices[i] = np.arctanh(corr_matrix)  # 转换为\"距离\"（相关性越高，距离越小）\n"
   ]
  },
  {
   "cell_type": "code",
   "execution_count": 95,
   "id": "022cf827-214a-4052-ae83-dcbbab143a04",
   "metadata": {},
   "outputs": [],
   "source": [
    "\n",
    "# ① 提取上三角部分\n",
    "n_subjects, n_nodes, _ = distance_matrices.shape \n",
    "triu_indices = np.triu_indices(n_nodes, k=1)  # 获取上三角索引（不含对角线）\n",
    "\n",
    "# 将每个被试的距离矩阵转换为 1D 向量，形成 (37, N) 形状的矩阵\n",
    "vectorized_data = np.array([distance_matrices[i][triu_indices] for i in range(n_subjects)])  # (37, N)\n",
    "\n",
    "subs_sm = np.arctanh(np.corrcoef(vectorized_data))\n",
    "\n"
   ]
  },
  {
   "cell_type": "code",
   "execution_count": 97,
   "id": "ccbbe1de-a860-4edf-aae8-95db34c701dc",
   "metadata": {},
   "outputs": [
    {
     "data": {
      "text/plain": [
       "(np.float64(0.009307916410190825), np.float64(0.9097090290970903))"
      ]
     },
     "execution_count": 97,
     "metadata": {},
     "output_type": "execute_result"
    }
   ],
   "source": [
    "mantel_with_multiple_controls(attitude_change_SM, subs_sm,\n",
    "                                        standardize=True, corr_type='pearson',\n",
    "                                        # control_matrices = [start_attitude_SM, sex_diff_matrix, age_diff_matrix], \n",
    "                                        permutations=10000,tail=2)"
   ]
  },
  {
   "cell_type": "code",
   "execution_count": null,
   "id": "200204d7-1fec-4676-8c4c-5a54b1c6f953",
   "metadata": {},
   "outputs": [],
   "source": []
  },
  {
   "cell_type": "code",
   "execution_count": null,
   "id": "607ffe71-9e2b-42d6-9403-0fcd61ad3c2d",
   "metadata": {},
   "outputs": [],
   "source": []
  },
  {
   "cell_type": "code",
   "execution_count": null,
   "id": "6b6c63d9-a320-4173-9064-4fb097664144",
   "metadata": {},
   "outputs": [],
   "source": []
  },
  {
   "cell_type": "code",
   "execution_count": 24,
   "id": "c0f181fa-b6aa-4080-9829-95877cd36711",
   "metadata": {},
   "outputs": [
    {
     "name": "stdout",
     "output_type": "stream",
     "text": [
      "(199, 37, 37)\n"
     ]
    }
   ],
   "source": [
    "subs_dISFC = np.load('/Users/li/Desktop/debate2025/results/subs_dISFC_seed89.npy')\n",
    "\n",
    "intersub_dISFC_similarity = []\n",
    "for edge in range(subs_dISFC.shape[1]):\n",
    "    intersub_dISFC_similarity .append(Adjacency(1 - pairwise_distances(subs_dISFC[:, edge, :], metric='correlation'), matrix_type='similarity'))\n",
    "brain_ISC = Adjacency(intersub_dISFC_similarity )\n",
    "\n",
    "brain_ISC_np = np.array(brain_ISC.squareform())\n",
    "print(brain_ISC_np.shape)\n",
    "\n",
    "brain_ISC_Z_np = np.arctanh(brain_ISC_np)\n"
   ]
  },
  {
   "cell_type": "code",
   "execution_count": 26,
   "id": "ad23ae76-fa3d-4d8e-9470-15e2d89712fc",
   "metadata": {},
   "outputs": [
    {
     "name": "stdout",
     "output_type": "stream",
     "text": [
      "199\n"
     ]
    }
   ],
   "source": [
    "nw_labels = pd.read_csv('/Users/li/Desktop/template/Schaefer/Schaefer2018_200Parcels_7Networks_order_FSLMNI152_2mm.Centroid_RAS.csv')\n",
    "roi_name = list(nw_labels['ROI Name'])\n",
    "roi_name.remove(roi_name[89])\n",
    "print(len(roi_name))\n",
    "\n",
    "# 按照组别分组 (例如: Vis)\n",
    "groups = {}\n",
    "for roi in roi_name:\n",
    "    group_name = roi.split('_')[2]  # 假设组别是第三个部分，格式为: 7Networks_LH_Vis_1\n",
    "    if group_name not in groups:\n",
    "        groups[group_name] = []\n",
    "    groups[group_name].append(roi)"
   ]
  },
  {
   "cell_type": "code",
   "execution_count": 28,
   "id": "74274f60-7cec-4a1f-b123-2e9f0e9a36b1",
   "metadata": {},
   "outputs": [],
   "source": [
    "nw_labels = pd.read_csv('/Users/li/Desktop/template/Schaefer/Schaefer2018_200Parcels_7Networks_order_FSLMNI152_2mm.Centroid_RAS.csv')\n",
    "nw_labels = nw_labels[nw_labels[\"ROI Label\"] != 90].reset_index(drop=True)\n",
    "\n",
    "vis, sm, da, va, limb, cont, default = [],[],[],[],[],[],[]\n",
    "for i in range(199):\n",
    "    net_name = nw_labels['ROI Name'][i].split('_')[2] \n",
    "    if net_name == 'Vis':\n",
    "        vis.append(i)\n",
    "    elif net_name == 'SomMot':\n",
    "        sm.append(i)\n",
    "    elif net_name == 'DorsAttn':\n",
    "        da.append(i)\n",
    "    elif net_name == 'SalVentAttn':\n",
    "        va.append(i)\n",
    "    elif net_name == 'Limbic':\n",
    "        limb.append(i)\n",
    "    elif net_name == 'Cont':\n",
    "        cont.append(i)\n",
    "    elif net_name == 'Default':\n",
    "        default.append(i)\n",
    "        \n",
    "nets = [vis, sm, da, va, limb, cont, default]\n",
    "nets_name = ['vis', 'sm', 'da', 'va', 'limb', 'cont', 'default']\n",
    "    "
   ]
  },
  {
   "cell_type": "code",
   "execution_count": 127,
   "id": "4a81f9ba-0016-4ac0-bdad-43a55da48dfc",
   "metadata": {},
   "outputs": [
    {
     "name": "stdout",
     "output_type": "stream",
     "text": [
      "vis 0.09425437730119728 0.36906309369063095\n",
      "sm -0.17639107273934979 0.1506849315068493\n",
      "da 0.10242802629158879 0.33936606339366066\n",
      "va -0.009944132247871225 0.9264073592640736\n",
      "limb 0.0671218161458762 0.5694430556944305\n",
      "cont -0.004474875342363814 0.97000299970003\n",
      "default 0.28299480162947604 0.014598540145985401\n"
     ]
    }
   ],
   "source": [
    "rlist1, plist1 = [],[]\n",
    "for a,n in enumerate(nets[:-1]):\n",
    "    net = n\n",
    "    subs_default_dISFC = subs_dISFC[:,net,:]\n",
    "    \n",
    "    distance_matrices = np.zeros((37, len(net), len(net)))\n",
    "    for i in range(37):\n",
    "        subject_data = subs_default_dISFC[i]  # (1464, 45)\n",
    "        corr_matrix = np.corrcoef(subject_data)  # 皮尔逊相关系数\n",
    "        distance_matrices[i] = np.arctanh(corr_matrix)  \n",
    "    \n",
    "    # ① 提取上三角部分\n",
    "    n_subjects, n_nodes, _ = distance_matrices.shape \n",
    "    triu_indices = np.triu_indices(n_nodes, k=1)  # 获取上三角索引（不含对角线）\n",
    "    \n",
    "    # 将每个被试的距离矩阵转换为 1D 向量，形成 (37, N) 形状的矩阵\n",
    "    vectorized_data = np.array([distance_matrices[i][triu_indices] for i in range(n_subjects)])  # (37, N)\n",
    "    \n",
    "    subs_sm = np.arctanh(np.corrcoef(vectorized_data))\n",
    "    \n",
    "    r, p = mantel_with_multiple_controls(attitude_change_SM, subs_sm,\n",
    "                                            standardize=True, corr_type='pearson',\n",
    "                                            # control_matrices = [start_attitude_SM, sex_diff_matrix, age_diff_matrix], \n",
    "                                            permutations=10000,tail=2)\n",
    "    print(nets_name[a], r, p )\n",
    "    rlist1.append(r)\n",
    "    plist1.append(p)\n"
   ]
  },
  {
   "cell_type": "code",
   "execution_count": 146,
   "id": "185950e5-5774-45ab-a42e-1facf3b3591c",
   "metadata": {},
   "outputs": [
    {
     "name": "stdout",
     "output_type": "stream",
     "text": [
      "vis 0.09256301072529644 0.3815618438156184\n",
      "sm -0.16270315042911482 0.1660833916608339\n",
      "da 0.10455074791019349 0.3300669933006699\n",
      "va -0.004216728967786645 0.969003099690031\n",
      "limb 0.07440190654407774 0.5205479452054794\n",
      "cont -0.007059723501146607 0.9521047895210479\n",
      "default 0.28497380344675494 0.012998700129987\n"
     ]
    }
   ],
   "source": [
    "rlist2, plist2 = [],[]\n",
    "for a,n in enumerate(nets):\n",
    "    net = n\n",
    "    subs_default_dISFC = subs_dISFC[:,net,:]\n",
    "    \n",
    "    distance_matrices = np.zeros((37, len(net), len(net)))\n",
    "    for i in range(37):\n",
    "        subject_data = subs_default_dISFC[i]  # (1464, 45)\n",
    "        corr_matrix = np.corrcoef(subject_data)  # 皮尔逊相关系数\n",
    "        distance_matrices[i] = np.arctanh(corr_matrix)  \n",
    "    \n",
    "    # ① 提取上三角部分\n",
    "    n_subjects, n_nodes, _ = distance_matrices.shape \n",
    "    triu_indices = np.triu_indices(n_nodes, k=1)  # 获取上三角索引（不含对角线）\n",
    "    \n",
    "    # 将每个被试的距离矩阵转换为 1D 向量，形成 (37, N) 形状的矩阵\n",
    "    vectorized_data = np.array([distance_matrices[i][triu_indices] for i in range(n_subjects)])  # (37, N)\n",
    "    \n",
    "    subs_sm = np.arctanh(np.corrcoef(vectorized_data))\n",
    "    \n",
    "    r, p = mantel_with_multiple_controls(attitude_change_SM, subs_sm,\n",
    "                                            standardize=True, corr_type='pearson',\n",
    "                                            control_matrices = [start_attitude_SM, sex_diff_matrix, age_diff_matrix], \n",
    "                                            permutations=10000,tail=2)\n",
    "    print(nets_name[a], r, p )\n",
    "    rlist2.append(r)\n",
    "    plist2.append(p)"
   ]
  },
  {
   "cell_type": "code",
   "execution_count": 144,
   "id": "54ba9c16-0eee-460f-bc74-a639a7d5d852",
   "metadata": {},
   "outputs": [
    {
     "name": "stdout",
     "output_type": "stream",
     "text": [
      "vis 0.08365266151278596 0.41025897410258977\n",
      "sm -0.15003533961494794 0.22297770222977703\n",
      "da 0.1212799562090633 0.24397560243975602\n",
      "va 0.0046825132912442086 0.9642035796420358\n",
      "limb 0.0865480812739743 0.4597540245975402\n",
      "cont -0.004496455043701396 0.9684031596840316\n",
      "default 0.20268903150016923 0.06519348065193481\n"
     ]
    }
   ],
   "source": [
    "rlist3, plist3 = [],[]\n",
    "for a,n in enumerate(nets):\n",
    "    net = n\n",
    "    subs_default_dISFC = subs_dISFC[:,net,:]\n",
    "    \n",
    "    distance_matrices = np.zeros((37, len(net), len(net)))\n",
    "    for i in range(37):\n",
    "        subject_data = subs_default_dISFC[i]  # (1464, 45)\n",
    "        corr_matrix = np.corrcoef(subject_data)  # 皮尔逊相关系数\n",
    "        distance_matrices[i] = np.arctanh(corr_matrix)  \n",
    "    \n",
    "    # ① 提取上三角部分\n",
    "    n_subjects, n_nodes, _ = distance_matrices.shape \n",
    "    triu_indices = np.triu_indices(n_nodes, k=1)  # 获取上三角索引（不含对角线）\n",
    "    \n",
    "    # 将每个被试的距离矩阵转换为 1D 向量，形成 (37, N) 形状的矩阵\n",
    "    vectorized_data = np.array([distance_matrices[i][triu_indices] for i in range(n_subjects)])  # (37, N)\n",
    "    \n",
    "    subs_sm = np.arctanh(np.corrcoef(vectorized_data))\n",
    "    \n",
    "    r, p = mantel_with_multiple_controls(attitude_change_SM, subs_sm,\n",
    "                                            standardize=True, corr_type='spearman',\n",
    "                                            # control_matrices = [start_attitude_SM, sex_diff_matrix, age_diff_matrix], \n",
    "                                            permutations=10000,tail=2)\n",
    "    print(nets_name[a], r, p )\n",
    "    rlist3.append(r)\n",
    "    plist3.append(p)"
   ]
  },
  {
   "cell_type": "code",
   "execution_count": 30,
   "id": "a465d4e8-26aa-48a4-b526-e7ae8e5c1b89",
   "metadata": {},
   "outputs": [
    {
     "name": "stdout",
     "output_type": "stream",
     "text": [
      "vis 0.08725113957205805 0.39746025397460255\n",
      "sm -0.14565159313113613 0.22397760223977603\n",
      "da 0.12113103263628648 0.24087591240875914\n",
      "va 0.008482083651719725 0.9312068793120688\n",
      "limb 0.09297296928407126 0.42105789421057893\n",
      "cont -0.02111173827844921 0.8559144085591441\n",
      "default 0.20456103832913283 0.0643935606439356\n"
     ]
    }
   ],
   "source": [
    "rlist4, plist4 = [],[]\n",
    "for a,n in enumerate(nets):\n",
    "    net = n\n",
    "    subs_default_dISFC = subs_dISFC[:,net,:]\n",
    "    \n",
    "    distance_matrices = np.zeros((37, len(net), len(net)))\n",
    "    for i in range(37):\n",
    "        subject_data = subs_default_dISFC[i]  # (1464, 45)\n",
    "        corr_matrix = np.corrcoef(subject_data)  # 皮尔逊相关系数\n",
    "        distance_matrices[i] = np.arctanh(corr_matrix)  \n",
    "    \n",
    "    # ① 提取上三角部分\n",
    "    n_subjects, n_nodes, _ = distance_matrices.shape \n",
    "    triu_indices = np.triu_indices(n_nodes, k=1)  # 获取上三角索引（不含对角线）\n",
    "    \n",
    "    # 将每个被试的距离矩阵转换为 1D 向量，形成 (37, N) 形状的矩阵\n",
    "    vectorized_data = np.array([distance_matrices[i][triu_indices] for i in range(n_subjects)])  # (37, N)\n",
    "    \n",
    "    subs_sm = np.arctanh(np.corrcoef(vectorized_data))\n",
    "    \n",
    "    r, p = mantel_with_multiple_controls(attitude_change_SM, subs_sm,\n",
    "                                            standardize=True, corr_type='spearman',\n",
    "                                            control_matrices = [start_attitude_SM, sex_diff_matrix, age_diff_matrix], \n",
    "                                            permutations=10000,tail=2)\n",
    "    print(nets_name[a], r, p )\n",
    "    rlist4.append(r)\n",
    "    plist4.append(p)"
   ]
  },
  {
   "cell_type": "code",
   "execution_count": 159,
   "id": "91180f7e-b40e-4156-af0d-28976b71a30c",
   "metadata": {},
   "outputs": [],
   "source": [
    "result_data = {\n",
    "    'pearson no-control': rlist1,\n",
    "    'p1': plist1,\n",
    "    'pearson control': rlist2,\n",
    "    'p2': plist2,\n",
    "    'spearman no-control': rlist3,\n",
    "    'p3': plist3,\n",
    "    'spearman control': rlist4,\n",
    "    'p4': plist4\n",
    "}\n",
    "\n",
    "result_data_df = pd.DataFrame(result_data)\n",
    "\n",
    "result_data_df.to_csv('/Users/li/Desktop/debate2025/results/ISFC-ISRSA-Exp1-seed89-2min-network-level-dp.csv', index=False)"
   ]
  },
  {
   "cell_type": "code",
   "execution_count": 28,
   "id": "836b3300-9130-43b4-8e5d-394b8d09ca8a",
   "metadata": {},
   "outputs": [],
   "source": [
    "\n",
    "net = default\n",
    "subs_default_dISFC = subs_dISFC[:,net,:]\n",
    "\n",
    "distance_matrices = np.zeros((37, len(net), len(net)))\n",
    "for i in range(37):\n",
    "    subject_data = subs_default_dISFC[i]  # (1464, 45)\n",
    "    corr_matrix = np.corrcoef(subject_data)  # 皮尔逊相关系数\n",
    "    distance_matrices[i] = np.arctanh(corr_matrix)  \n",
    "\n",
    "# ① 提取上三角部分\n",
    "n_subjects, n_nodes, _ = distance_matrices.shape \n",
    "triu_indices = np.triu_indices(n_nodes, k=1)  # 获取上三角索引（不含对角线）\n",
    "\n",
    "# 将每个被试的距离矩阵转换为 1D 向量，形成 (37, N) 形状的矩阵\n",
    "vectorized_data = np.array([distance_matrices[i][triu_indices] for i in range(n_subjects)])  # (37, N)\n",
    "\n",
    "subs_sm = np.arctanh(np.corrcoef(vectorized_data))\n",
    "\n",
    "# mantel_with_multiple_controls(attitude_change_SM, subs_sm,\n",
    "#                                         standardize=True, corr_type='spearman',\n",
    "#                                         # control_matrices = [start_attitude_SM, sex_diff_matrix, age_diff_matrix], \n",
    "#                                         permutations=100000,tail=2)\n"
   ]
  },
  {
   "cell_type": "code",
   "execution_count": 50,
   "id": "ef69df24-f500-4888-9ac9-96f2379b1b5b",
   "metadata": {},
   "outputs": [],
   "source": [
    "import numpy as np\n",
    "from sklearn.linear_model import LinearRegression\n",
    "from sklearn.preprocessing import StandardScaler\n",
    "\n",
    "def regress_out(vec, control_matrices):\n",
    "    # 获取上三角部分的索引\n",
    "    upper_triangle_indices = np.triu_indices_from(vec, k=1)\n",
    "\n",
    "    if control_matrices is None or len(control_matrices) == 0:\n",
    "        return vec  # 如果没有控制变量，直接返回原始矩阵\n",
    "\n",
    "    # 对原始矩阵进行标准化\n",
    "    scaler = StandardScaler()\n",
    "    vec_scaled = scaler.fit_transform(vec[upper_triangle_indices].reshape(-1, 1)).flatten()\n",
    "\n",
    "    # 收集控制变量的标准化版本\n",
    "    control_vectors = []\n",
    "    for control_matrix in control_matrices:\n",
    "        control_vec = control_matrix[upper_triangle_indices]\n",
    "        control_vec_scaled = scaler.fit_transform(control_vec.reshape(-1, 1)).flatten()\n",
    "        control_vectors.append(control_vec_scaled)\n",
    "    \n",
    "    # 拼接控制变量矩阵\n",
    "    control_matrix = np.column_stack(control_vectors)\n",
    "\n",
    "    # 执行回归\n",
    "    model = LinearRegression().fit(control_matrix, vec_scaled)\n",
    "\n",
    "    # 计算残差\n",
    "    residuals = vec_scaled - model.predict(control_matrix)\n",
    "    \n",
    "    # 将残差放回原始矩阵的上三角部分\n",
    "    vec_residual = np.zeros_like(vec)\n",
    "    vec_residual[upper_triangle_indices] = residuals\n",
    "\n",
    "    # 由于矩阵是对称的，将残差填充回下三角部分\n",
    "    vec_residual = vec_residual + vec_residual.T\n",
    "\n",
    "    return vec_residual\n"
   ]
  },
  {
   "cell_type": "code",
   "execution_count": 56,
   "id": "5a4fd1ac-55b9-400b-8318-6ee67d6a48fe",
   "metadata": {},
   "outputs": [],
   "source": [
    "\n",
    "\n",
    "persons = np.arange(len(subjects))  \n",
    "\n",
    "# from pymer4.models import Lmer\n",
    "def matrix2long():\n",
    "    \n",
    "    data = {'Person1': [], 'Person2': [], \n",
    "            'start': [], 'change_progress':[], 'ISC':[],\n",
    "            'age':[], 'sex':[], 'joint_IUS':[],\n",
    "           }\n",
    "    \n",
    "    for i in persons:\n",
    "        for j in persons:\n",
    "            if i != j:  # 忽略自身配对\n",
    "                data['Person1'].append(i)\n",
    "                data['Person2'].append(j)\n",
    "                data['start'].append(start_attitude_SM[i, j])\n",
    "                data['change_progress'].append(attitude_change_reg[i, j])\n",
    "                # data['change_progress'].append(attitude_change_distances_matrix[i, j])\n",
    "                data['age'].append(age_diff_matrix[i, j])\n",
    "                data['sex'].append(sex_diff_matrix[i, j])\n",
    "                data['joint_IUS'].append(joint_IUS[i, j])\n",
    "                data['ISC'].append(regress_out(subs_sm, [age_diff_matrix, sex_diff_matrix, start_attitude_SM])[i,j]) \n",
    "                # data['ISC'].append(DMN_ISC_Z_np[i,j]) \n",
    "    df = pd.DataFrame(data)\n",
    "    X = df[['start','change_progress','age', 'sex', 'joint_IUS', 'ISC']]\n",
    "    scaler = StandardScaler()\n",
    "    X_standardized = scaler.fit_transform(X)\n",
    "    df_standardized = df.copy()\n",
    "    df_standardized[['start', 'change_progress', 'age', 'sex', 'joint_IUS', 'ISC']] = X_standardized\n",
    "\n",
    "    return df_standardized\n",
    "\n",
    "def get_coef(item):\n",
    "    params.append(model_coefs_df['Estimate'][item])\n",
    "    se.append(model_coefs_df['SE'][item])\n",
    "    degree.append(model_coefs_df['DF'][item])\n",
    "    t.append(model_coefs_df['T-stat'][item])\n",
    "    p.append(model_coefs_df['P-val'][item])\n",
    "\n"
   ]
  },
  {
   "cell_type": "code",
   "execution_count": 58,
   "id": "d05d9bf7-7f75-4c1b-8405-ad40c95232b5",
   "metadata": {},
   "outputs": [],
   "source": [
    "\n",
    "attitude_change_reg = regress_out(attitude_change_SM, [age_diff_matrix, sex_diff_matrix, start_attitude_SM])\n",
    "\n",
    "df = matrix2long()\n",
    "df.to_csv('/Users/li/Desktop/debate2025/IUSdpDMN.csv')"
   ]
  }
 ],
 "metadata": {
  "kernelspec": {
   "display_name": "Python [conda env:base] *",
   "language": "python",
   "name": "conda-base-py"
  },
  "language_info": {
   "codemirror_mode": {
    "name": "ipython",
    "version": 3
   },
   "file_extension": ".py",
   "mimetype": "text/x-python",
   "name": "python",
   "nbconvert_exporter": "python",
   "pygments_lexer": "ipython3",
   "version": "3.12.7"
  }
 },
 "nbformat": 4,
 "nbformat_minor": 5
}
