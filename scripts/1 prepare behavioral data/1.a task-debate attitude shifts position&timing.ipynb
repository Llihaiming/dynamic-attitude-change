{
 "cells": [
  {
   "cell_type": "code",
   "execution_count": 1,
   "id": "0c75f915-692f-45f0-911d-86646ed54609",
   "metadata": {},
   "outputs": [],
   "source": [
    "import os\n",
    "import glob\n",
    "import numpy as np\n",
    "import pandas as pd\n",
    "import matplotlib.pyplot as plt\n",
    "import seaborn as sns"
   ]
  },
  {
   "cell_type": "code",
   "execution_count": 2,
   "id": "d36a01b1-7724-4646-85ef-58204ffbb28b",
   "metadata": {},
   "outputs": [],
   "source": [
    "\n",
    "def pos_changes(csv_file_path):\n",
    "    \n",
    "    df = pd.read_csv(csv_file_path)\n",
    "    df.columns = ['pos', 'time']\n",
    "    changes = []\n",
    "\n",
    "    previous_value = None\n",
    "    for index, row in df.iterrows():\n",
    "        current_value = row['pos']\n",
    "        current_time = row['time']\n",
    "        if previous_value is None or current_value != previous_value:\n",
    "            changes.append([current_value, current_time])\n",
    "        previous_value = current_value\n",
    "        \n",
    "    return changes\n",
    "\n",
    "\n",
    "\n",
    "def add_constant(data, constant):\n",
    "    for row in data:\n",
    "        row[1] += constant\n",
    "    return data\n",
    "\n",
    "\n",
    "def generate_rate_data_by_TR(file_path):\n",
    "    # 读取Excel文件\n",
    "    df = pd.read_csv(file_path)\n",
    "    \n",
    "    # 提取时间和评分数据\n",
    "    times = df['time'].values\n",
    "    rates = df['rate'].values\n",
    "    \n",
    "    # 生成新的时间点（每2秒一个数据点，直到3000秒）\n",
    "    new_times = np.arange(0, 2987, 2)\n",
    "    \n",
    "    # 创建新的评分数据列表\n",
    "    new_rates = []\n",
    "    current_rate = rates[0]\n",
    "    current_time_index = 0\n",
    "    \n",
    "    # 遍历新的时间点\n",
    "    for t in new_times:\n",
    "        # 检查是否需要更新评分\n",
    "        if current_time_index < len(times) - 1 and t >= times[current_time_index + 1]:\n",
    "            current_time_index += 1\n",
    "            current_rate = rates[current_time_index]\n",
    "        new_rates.append(current_rate)\n",
    "    \n",
    "    # 创建新的DataFrame\n",
    "    new_df = pd.DataFrame({'time': new_times, 'rate': new_rates})\n",
    "    \n",
    "    return new_df\n",
    "\n"
   ]
  },
  {
   "cell_type": "code",
   "execution_count": 3,
   "id": "f6e8d4c8-7e0e-46fd-a579-ecf76cada6a8",
   "metadata": {},
   "outputs": [
    {
     "name": "stdout",
     "output_type": "stream",
     "text": [
      "Doing … 13\t14\t15\t16\t17\t18\t19\t20\t21\t22\t23\t24\t25\t26\t27\t28\t29\t30\t31\t32\t33\t34\t35\t36\t37\t38\t39\t40\t41\t42\t43\t44\t45\t46\t47\t48\t49\t50\t"
     ]
    }
   ],
   "source": [
    "base_dir = '/Users/li/Desktop/task-debate/behavdata/during_scan'\n",
    "\n",
    "sub_list = [f'{x}' for x in range(13,51)]\n",
    "run_list = ['1', '2', '3', '4', '5', '6']\n",
    "\n",
    "for sub in sub_list:\n",
    "    if sub == sub_list[0]:\n",
    "        print('Doing …', sub, end ='\\t')\n",
    "    else:\n",
    "        print(sub, end ='\\t')\n",
    "    \n",
    "    sub_data = []\n",
    "    for run in run_list:\n",
    "        \n",
    "        csv_file = os.path.join(base_dir, 'attitude_rate_during_scan', f'subject_{sub}_run_{run}_pos_time.csv')\n",
    "        \n",
    "        if run == '1':\n",
    "            sub_run = pos_changes(csv_file)\n",
    "        elif run == '2':\n",
    "            sub_run = pos_changes(csv_file)\n",
    "            sub_run = add_constant(sub_run, 500)\n",
    "        elif run == '3':\n",
    "            sub_run = pos_changes(csv_file)\n",
    "            sub_run = add_constant(sub_run, 1098)\n",
    "        elif run == '4':\n",
    "            sub_run = pos_changes(csv_file)\n",
    "            sub_run = add_constant(sub_run, 1484)\n",
    "        elif run == '5':\n",
    "            sub_run = pos_changes(csv_file)\n",
    "            sub_run = add_constant(sub_run, 1892)\n",
    "        elif run == '6':\n",
    "            sub_run = pos_changes(csv_file)\n",
    "            sub_run = add_constant(sub_run, 2464)\n",
    "\n",
    "        sub_data = sub_data + sub_run\n",
    "    \n",
    "    df = pd.DataFrame(sub_data, columns =['rate','time'])\n",
    "    df['time'] = df['time'].map(lambda x: '{:.3f}'.format(x))\n",
    "    df['rate'] = df['rate'].astype(int)\n",
    "    \n",
    "    output_path = os.path.join(base_dir, 'combined_6runs', f'subject_{sub}_rate-time.csv')\n",
    "\n",
    "    # df.to_csv(output_path, index=False)"
   ]
  },
  {
   "cell_type": "markdown",
   "id": "44f1cda8-3f98-46af-a6e3-cb1b384930de",
   "metadata": {},
   "source": [
    "## Note: After each run, participants had 8 seconds to adjust their attitudes. Any attitude rating changes during this period were temporarily considered to occur at the final moment of the run. \n",
    "## In subsequent analyses focusing on attitude change points (e.g., predicting the direction of change or examining post-change increases in dACC activity), these points were excluded."
   ]
  },
  {
   "cell_type": "code",
   "execution_count": 4,
   "id": "0e2ed920-d023-4720-9fef-4ff181f26e01",
   "metadata": {},
   "outputs": [
    {
     "name": "stdout",
     "output_type": "stream",
     "text": [
      "Doing sub 13\t14\t15\t16\t17\t18\t19\t20\t21\t22\t23\t24\t25\t26\t27\t28\t29\t30\t31\t32\t33\t34\t35\t36\t37\t38\t39\t40\t41\t42\t43\t44\t45\t46\t47\t48\t49\t50\t"
     ]
    }
   ],
   "source": [
    "for sub in sub_list:\n",
    "    \n",
    "    if sub == '13':\n",
    "        print('Doing sub', sub , end ='\\t')\n",
    "    else:\n",
    "        print(sub, end ='\\t')\n",
    "        \n",
    "    file_path = os.path.join(base_dir, 'combined_6runs', f'subject_{sub}_rate-time.csv')\n",
    "    df = pd.read_csv(file_path)\n",
    "    \n",
    "    df.loc[(df['time'] > 500) & (df['time'] < 500+8), 'time'] = 500\n",
    "    df.loc[(df['time'] > 1098) & (df['time'] < 1098+8), 'time'] = 1098\n",
    "    df.loc[(df['time'] > 1484) & (df['time'] < 1484+8), 'time'] = 1484\n",
    "    df.loc[(df['time'] > 1892) & (df['time'] < 1892+8), 'time'] = 1892\n",
    "    df.loc[(df['time'] > 2464) & (df['time'] < 2464+8), 'time'] = 2464\n",
    "    df.loc[(df['time'] > 2986) & (df['time'] < 2986+8), 'time'] = 2986\n",
    "    \n",
    "    output_path = os.path.join(base_dir, 'combined_6runs', f'subject_{sub}_rate-time.csv')\n",
    "    \n",
    "    # df.to_csv(output_path, index=False)"
   ]
  },
  {
   "cell_type": "code",
   "execution_count": 5,
   "id": "89c28482-8d24-43d3-8df1-7cfe97aa459e",
   "metadata": {},
   "outputs": [],
   "source": [
    "for sub in sub_list:\n",
    "    file = os.path.join(base_dir, 'combined_6runs', f'subject_{sub}_rate-time.csv')\n",
    "    time_rate = generate_rate_data_by_TR(file)\n",
    "    output_file = os.path.join(base_dir, 'combined_6runs_per_TR', f'subject_{sub}_TR_rate.csv')\n",
    "    # time_rate.to_csv(output_file, index=False)"
   ]
  }
 ],
 "metadata": {
  "kernelspec": {
   "display_name": "Python 3 (ipykernel)",
   "language": "python",
   "name": "python3"
  },
  "language_info": {
   "codemirror_mode": {
    "name": "ipython",
    "version": 3
   },
   "file_extension": ".py",
   "mimetype": "text/x-python",
   "name": "python",
   "nbconvert_exporter": "python",
   "pygments_lexer": "ipython3",
   "version": "3.12.7"
  },
  "widgets": {
   "application/vnd.jupyter.widget-state+json": {
    "state": {},
    "version_major": 2,
    "version_minor": 0
   }
  }
 },
 "nbformat": 4,
 "nbformat_minor": 5
}
