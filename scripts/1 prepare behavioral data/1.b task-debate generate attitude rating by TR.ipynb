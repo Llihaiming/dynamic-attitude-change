{
 "cells": [
  {
   "cell_type": "code",
   "execution_count": 20,
   "id": "0c75f915-692f-45f0-911d-86646ed54609",
   "metadata": {},
   "outputs": [],
   "source": [
    "import os\n",
    "import glob\n",
    "import numpy as np\n",
    "import pandas as pd\n",
    "import matplotlib.pyplot as plt\n",
    "import seaborn as sns"
   ]
  },
  {
   "cell_type": "markdown",
   "id": "8a876b02-781a-4a67-b997-769d5996f422",
   "metadata": {},
   "source": [
    "##  Note: Multiple key presses within a short interval (within 4 seconds) are considered as a single attitude change, with the timing taken as the time of the first key press."
   ]
  },
  {
   "cell_type": "code",
   "execution_count": 27,
   "id": "7a3cc3f0-e9a9-447c-a3de-7dbb005f9d38",
   "metadata": {},
   "outputs": [],
   "source": [
    "\n",
    "def filter_time_series(df, time_col='time', rate_col='rate', time_threshold=4):\n",
    "    \"\"\"\n",
    "    合并时间接近的数据点并删除连续相同rate的后一个数据点。\n",
    "    \n",
    "    参数：\n",
    "    df (pd.DataFrame): 输入的DataFrame，包含时间和rate列。\n",
    "    time_col (str): 时间列的列名。\n",
    "    rate_col (str): rate列的列名。\n",
    "    time_threshold (int): 时间间隔阈值，单位为秒。\n",
    "\n",
    "    返回值：\n",
    "    pd.DataFrame: 处理后的DataFrame。\n",
    "    \"\"\"\n",
    "    # 合并时间接近的数据点\n",
    "    merged_data = []\n",
    "    start_time = df[time_col][0]\n",
    "    last_rate = df[rate_col][0]\n",
    "\n",
    "    for i in range(1, len(df)):\n",
    "        if df[time_col][i] - df[time_col][i-1] < time_threshold:\n",
    "            last_rate = df[rate_col][i]\n",
    "        else:\n",
    "            merged_data.append({time_col: start_time, rate_col: last_rate})\n",
    "            start_time = df[time_col][i]\n",
    "            last_rate = df[rate_col][i]\n",
    "\n",
    "    # 添加最后一个合并的数据点\n",
    "    merged_data.append({time_col: start_time, rate_col: last_rate})\n",
    "\n",
    "    # 转换为 DataFrame\n",
    "    merged_df = pd.DataFrame(merged_data)\n",
    "\n",
    "    # 删除连续相同rate的后一个数据点\n",
    "    filtered_data = []\n",
    "    for i in range(len(merged_df)):\n",
    "        if i == 0 or merged_df[rate_col][i] != merged_df[rate_col][i-1]:\n",
    "            filtered_data.append({time_col: merged_df[time_col][i], rate_col: merged_df[rate_col][i]})\n",
    "\n",
    "    filtered_df = pd.DataFrame(filtered_data)\n",
    "\n",
    "    return filtered_df\n"
   ]
  },
  {
   "cell_type": "code",
   "execution_count": 22,
   "id": "39de69db-756a-4f21-8ae6-0e914123e552",
   "metadata": {},
   "outputs": [],
   "source": [
    "def generate_rate_data_by_TR(df):\n",
    "    \n",
    "    # 提取时间和评分数据\n",
    "    times = df['time'].values\n",
    "    rates = df['rate'].values\n",
    "    \n",
    "    # 生成新的时间点（每2秒一个数据点，直到3000秒）\n",
    "    new_times = np.arange(0, 2987, 2)\n",
    "    \n",
    "    # 创建新的评分数据列表\n",
    "    new_rates = []\n",
    "    current_rate = rates[0]\n",
    "    current_time_index = 0\n",
    "    \n",
    "    # 遍历新的时间点\n",
    "    for t in new_times:\n",
    "        # 检查是否需要更新评分\n",
    "        if current_time_index < len(times) - 1 and t >= times[current_time_index + 1]:\n",
    "            current_time_index += 1\n",
    "            current_rate = rates[current_time_index]\n",
    "        new_rates.append(current_rate)\n",
    "    \n",
    "    # 创建新的DataFrame\n",
    "    new_df = pd.DataFrame({'time': new_times, 'rate': new_rates})\n",
    "    \n",
    "    return new_df"
   ]
  },
  {
   "cell_type": "code",
   "execution_count": 28,
   "id": "93c4a3e5-09ec-45e9-a730-d78317440443",
   "metadata": {},
   "outputs": [],
   "source": [
    "base_dir = '/Users/li/Desktop/task-debate/behavdata/during_scan'\n",
    "\n",
    "sub_list = [f'{x}' for x in range(13,51)]\n",
    "\n",
    "for sub in sub_list:\n",
    "    \n",
    "    file = f'/Users/li/Desktop/task-debate/behavdata/during_scan/combined_6runs/subject_{sub}_rate-time.csv'\n",
    "    df = pd.read_csv(file)\n",
    "    \n",
    "    filter_df = filter_time_series(df)\n",
    "    TR_df = generate_rate_data_by_TR(filter_df)\n",
    "\n",
    "    \n",
    "    output_file_1 = os.path.join(base_dir, 'combined_6runs_filter', f'subject_{sub}_rate-time.csv')\n",
    "    filter_df.to_csv(output_file_1, index=False)\n",
    "    \n",
    "    output_file_2 = os.path.join(base_dir, 'combined_6runs_per_TR_filter', f'subject_{sub}_TR_rate.csv')\n",
    "    TR_df.to_csv(output_file_2, index=False)\n",
    "    "
   ]
  }
 ],
 "metadata": {
  "kernelspec": {
   "display_name": "Python 3 (ipykernel)",
   "language": "python",
   "name": "python3"
  },
  "language_info": {
   "codemirror_mode": {
    "name": "ipython",
    "version": 3
   },
   "file_extension": ".py",
   "mimetype": "text/x-python",
   "name": "python",
   "nbconvert_exporter": "python",
   "pygments_lexer": "ipython3",
   "version": "3.12.7"
  },
  "widgets": {
   "application/vnd.jupyter.widget-state+json": {
    "state": {},
    "version_major": 2,
    "version_minor": 0
   }
  }
 },
 "nbformat": 4,
 "nbformat_minor": 5
}
