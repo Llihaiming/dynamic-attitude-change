{
 "cells": [
  {
   "cell_type": "code",
   "execution_count": 1,
   "id": "51959029-6d1b-4156-af03-bdf9ec362233",
   "metadata": {},
   "outputs": [],
   "source": [
    "import os\n",
    "import glob\n",
    "import numpy as np\n",
    "import pandas as pd\n",
    "\n",
    "from scipy.spatial.distance import pdist, squareform\n",
    "from scipy.stats import pearsonr,spearmanr\n",
    "\n",
    "import matplotlib.pyplot as plt\n",
    "import seaborn as sns\n",
    "\n",
    "import nibabel as nib\n",
    "from nilearn.input_data import NiftiLabelsMasker\n",
    "from nilearn.image import new_img_like\n",
    "from nilearn.plotting import plot_glass_brain, plot_stat_map, view_img, view_img_on_surf\n",
    "\n",
    "from nltools.data import Brain_Data, Adjacency\n",
    "from nltools.mask import roi_to_brain, expand_mask\n",
    "from nltools.stats import fdr, threshold\n",
    "\n",
    "from sklearn.metrics import pairwise_distances\n",
    "from sklearn.preprocessing import StandardScaler\n",
    "\n",
    "import statsmodels.api as sm\n",
    "from statsmodels.formula.api import mixedlm\n",
    "from statsmodels.stats.multitest import multipletests\n",
    "\n",
    "import warnings\n",
    "warnings.filterwarnings('ignore')\n",
    "\n",
    "%matplotlib inline"
   ]
  },
  {
   "cell_type": "code",
   "execution_count": 5,
   "id": "847ea9d6-9613-4534-ae75-1328aae6656b",
   "metadata": {},
   "outputs": [],
   "source": [
    "\n",
    "base_dir = '/Users/li/Desktop/debate/braindata'\n",
    "\n",
    "sub_list = [f'sub-{x:0>3d}' for x in range(13,51)]\n",
    "sub_list.remove('sub-021')\n",
    "\n",
    "subs_roi_data = []\n",
    "for sub in sub_list:\n",
    "    csv_file = f'/Volumes/Li/task-debate/braindata/denoised 5/parcel data/Schaefer 200 combine 6 runs/{sub}_combined_time-series_Schaefer2018_200Parcels_7Networks.csv'\n",
    "    sub_data = pd.read_csv(csv_file)\n",
    "    subs_roi_data.append(sub_data.values)\n",
    "\n",
    "all_brain_data = np.array(subs_roi_data)\n",
    "\n",
    "mask_file = '/Users/li/Desktop/template/Schaefer/tpl-MNI152NLin2009cAsym_res-02_atlas-Schaefer2018_desc-200Parcels7Networks_dseg.nii.gz'\n",
    "mask_img = nib.load(mask_file)\n",
    "mask_data = mask_img.get_fdata()\n",
    "\n",
    "nw_labels = pd.read_csv('/Users/li/Desktop/template/Schaefer/Schaefer2018_200Parcels_7Networks_order_FSLMNI152_2mm.Centroid_RAS.csv')\n",
    "roi_name = list(nw_labels['ROI Name'])\n"
   ]
  },
  {
   "cell_type": "code",
   "execution_count": 7,
   "id": "06a5f530-cf40-49db-87d8-a1fe3b1f80b1",
   "metadata": {},
   "outputs": [
    {
     "name": "stdout",
     "output_type": "stream",
     "text": [
      "brain_ISC_np.shape (200, 37, 37)\n"
     ]
    },
    {
     "data": {
      "text/plain": [
       "<Axes: >"
      ]
     },
     "execution_count": 7,
     "metadata": {},
     "output_type": "execute_result"
    }
   ],
   "source": [
    "\n",
    "sub_list = list(range(13,51))\n",
    "sub_list.remove(21)\n",
    "\n",
    "subs_change_tr = []\n",
    "for sub in sub_list:\n",
    "    # time points\n",
    "    sub_time_file = f'/Users/li/Desktop/task-debate/behavdata/during_scan/combined_6runs_filter_diff/subject_{sub}_rate_diff.csv'\n",
    "    df = pd.read_csv(sub_time_file)\n",
    "    change_time = list(df['time'][1:])\n",
    "    tr = [round(x/2) for x in change_time]\n",
    "    subs_change_tr.append(tr)\n",
    "\n",
    "\n",
    "brain_ISC_np = np.zeros((200, 37, 37))\n",
    "\n",
    "for i in range(37):\n",
    "    for j in range(i, 37): \n",
    "        \n",
    "        if i == j:\n",
    "            brain_ISC_np[:,i, j] = 0 #对角线元素设为1\n",
    "            continue\n",
    "        \n",
    "        #计算两人变化点的并集\n",
    "        sub_i_tr = subs_change_tr[i]\n",
    "        sub_j_tr = subs_change_tr[j]\n",
    "        combined = sub_i_tr + sub_j_tr\n",
    "\n",
    "        # 删除两人并集变化点前后10个tr数据\n",
    "        delete_tr = sorted({i for x in combined for i in range(x - 5, x + 11)})\n",
    "        delete_tr = [item for item in delete_tr if item < 1493]\n",
    "        delete_tr = [item for item in delete_tr if item > 1]\n",
    "\n",
    "        # 删除\n",
    "        sub_i_data = all_brain_data[i,:,:]\n",
    "        sub_j_data = all_brain_data[j,:,:]\n",
    "        sub_i_data = np.delete(sub_i_data, delete_tr, axis=0)\n",
    "        sub_j_data = np.delete(sub_j_data, delete_tr, axis=0)\n",
    "\n",
    "        # 现在，sub_data 是TR数*200的二维数组，计算每个roi的相关\n",
    "        correlations = np.array([pearsonr(sub_i_data[:,i], sub_j_data[:,i])[0] for i in range(sub_i_data.shape[1])])\n",
    "        \n",
    "        brain_ISC_np[:, i, j] = correlations\n",
    "        brain_ISC_np[:, j, i] = correlations\n",
    "\n",
    "print(\"brain_ISC_np.shape\", brain_ISC_np.shape)\n",
    "\n",
    "brain_ISC_Z_np = np.arctanh(brain_ISC_np)\n",
    "\n",
    "sns.heatmap(brain_ISC_np.mean(0))\n"
   ]
  },
  {
   "cell_type": "code",
   "execution_count": 8,
   "id": "e601cdf4-34da-492d-8fcf-c42cd6c5982b",
   "metadata": {},
   "outputs": [],
   "source": [
    "brain_ISC_np_dis = brain_ISC_np"
   ]
  },
  {
   "cell_type": "code",
   "execution_count": 9,
   "id": "6862ed4d-fdf7-42da-80d6-15a653978fdb",
   "metadata": {},
   "outputs": [
    {
     "name": "stdout",
     "output_type": "stream",
     "text": [
      "(200, 37, 37)\n"
     ]
    }
   ],
   "source": [
    "brain_correlation_matrices = []\n",
    "\n",
    "for node in range(all_brain_data.shape[2]):\n",
    "    brain_correlation_matrices.append(Adjacency(1 - pairwise_distances(all_brain_data[:, :, node], metric='correlation'), matrix_type='similarity'))\n",
    "brain_ISC = Adjacency(brain_correlation_matrices)\n",
    "\n",
    "brain_ISC_np = np.array(brain_ISC.squareform())\n",
    "print(brain_ISC_np.shape)\n",
    "brain_ISC_Z_np = np.arctanh(brain_ISC_np)\n",
    "brain_ISC_np_nodis = brain_ISC_np"
   ]
  },
  {
   "cell_type": "code",
   "execution_count": 53,
   "id": "70f72851-a027-429d-ad0e-ab9334fb192d",
   "metadata": {},
   "outputs": [
    {
     "data": {
      "text/plain": [
       "(0.018041797304933778, 0.016374203058650175, 0.01388321999273126)"
      ]
     },
     "execution_count": 53,
     "metadata": {},
     "output_type": "execute_result"
    }
   ],
   "source": [
    "dACC_ISC_discard = brain_ISC_np_dis[89][np.triu_indices(37, k=1)]\n",
    "\n",
    "\n",
    "dACC_ISC =  brain_ISC_np_nodis[89][np.triu_indices(37, k=1)]\n",
    "\n",
    "# 计算差值\n",
    "difference = np.abs(dACC_ISC_discard - dACC_ISC)\n",
    "\n",
    "# 计算统计数据\n",
    "mean_diff = np.mean(difference)\n",
    "std_diff = np.std(difference)\n",
    "median_diff = np.median(difference)\n",
    "\n",
    "mean_diff, std_diff, median_diff"
   ]
  },
  {
   "cell_type": "code",
   "execution_count": 47,
   "id": "a4d641d2-0573-46d1-a1ff-82bfeab5bac4",
   "metadata": {},
   "outputs": [
    {
     "name": "stdout",
     "output_type": "stream",
     "text": [
      "T-statistic: -4.676136806929058\n",
      "P-value: 3.541385053037648e-06\n"
     ]
    }
   ],
   "source": [
    "from scipy import stats\n",
    "\n",
    "# Perform a one-sample t-test to test if the mean of the difference is significantly different from 0\n",
    "t_stat, p_value = stats.ttest_1samp(difference, 0)\n",
    "\n",
    "print(f\"T-statistic: {t_stat}\")\n",
    "print(f\"P-value: {p_value}\")\n"
   ]
  },
  {
   "cell_type": "code",
   "execution_count": 51,
   "id": "b07b2501-9c83-4688-b37c-6bb4fac7b671",
   "metadata": {},
   "outputs": [
    {
     "data": {
      "text/plain": [
       "(-4.676136806929058, 3.541385053037648e-06)"
      ]
     },
     "execution_count": 51,
     "metadata": {},
     "output_type": "execute_result"
    }
   ],
   "source": [
    "from scipy.stats import ttest_rel\n",
    "\n",
    "# 计算配对样本t检验\n",
    "t_stat, p_value = ttest_rel(dACC_ISC_discard, dACC_ISC)\n",
    "\n",
    "t_stat, p_value\n"
   ]
  },
  {
   "cell_type": "code",
   "execution_count": 49,
   "id": "60e2bd01-5eb6-4c6f-9028-a1de69d9fbed",
   "metadata": {},
   "outputs": [
    {
     "data": {
      "image/png": "[encoded data removed]",
      "text/plain": [
       "<Figure size 800x600 with 1 Axes>"
      ]
     },
     "metadata": {},
     "output_type": "display_data"
    }
   ],
   "source": [
    "import matplotlib.pyplot as plt\n",
    "\n",
    "# Plotting the distribution of the 'difference' values\n",
    "plt.figure(figsize=(8, 6))\n",
    "plt.hist(difference, bins=20, color='skyblue', edgecolor='black', alpha=0.7)\n",
    "plt.title('Distribution of Differences between ISC Values')\n",
    "plt.xlabel('Difference (dACC_ISC_discard - dACC_ISC)')\n",
    "plt.ylabel('Frequency')\n",
    "plt.grid(True)\n",
    "plt.show()\n"
   ]
  },
  {
   "cell_type": "code",
   "execution_count": 41,
   "id": "94f973a3-6597-4229-a31c-89f26e5f7df6",
   "metadata": {},
   "outputs": [
    {
     "name": "stdout",
     "output_type": "stream",
     "text": [
      "Pearson correlation coefficient: 0.8317798815533066\n",
      "P-value: 6.851709606774075e-172\n"
     ]
    }
   ],
   "source": [
    "from scipy.stats import pearsonr, spearmanr\n",
    "\n",
    "# Calculate the Pearson correlation between the two lists\n",
    "corr_coefficient, p_value = pearsonr(dACC_ISC_discard, dACC_ISC)\n",
    "\n",
    "print(f\"Pearson correlation coefficient: {corr_coefficient}\")\n",
    "print(f\"P-value: {p_value}\")\n"
   ]
  }
 ],
 "metadata": {
  "kernelspec": {
   "display_name": "Python 3 (ipykernel)",
   "language": "python",
   "name": "python3"
  },
  "language_info": {
   "codemirror_mode": {
    "name": "ipython",
    "version": 3
   },
   "file_extension": ".py",
   "mimetype": "text/x-python",
   "name": "python",
   "nbconvert_exporter": "python",
   "pygments_lexer": "ipython3",
   "version": "3.12.7"
  }
 },
 "nbformat": 4,
 "nbformat_minor": 5
}
