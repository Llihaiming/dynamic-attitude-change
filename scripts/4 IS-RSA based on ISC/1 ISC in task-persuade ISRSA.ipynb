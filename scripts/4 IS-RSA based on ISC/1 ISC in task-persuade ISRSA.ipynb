{
 "cells": [
  {
   "cell_type": "code",
   "execution_count": 1,
   "id": "4cc0d5eb-a5d9-4b59-a642-8ac065471426",
   "metadata": {},
   "outputs": [],
   "source": [
    "import os\n",
    "import glob\n",
    "import numpy as np\n",
    "import pandas as pd\n",
    "\n",
    "from scipy.spatial.distance import pdist, squareform\n",
    "from scipy.stats import rankdata, ttest_rel, ttest_1samp\n",
    "from scipy.stats import pearsonr,spearmanr\n",
    "\n",
    "import matplotlib.pyplot as plt\n",
    "import matplotlib.lines as mlines\n",
    "import matplotlib.transforms as mtransforms\n",
    "import seaborn as sns\n",
    "\n",
    "\n",
    "import nibabel as nib\n",
    "from nilearn.input_data import NiftiLabelsMasker\n",
    "from nilearn.plotting import plot_glass_brain, plot_stat_map, view_img, view_img_on_surf\n",
    "\n",
    "from nltools.data import Brain_Data, Adjacency\n",
    "from nltools.mask import roi_to_brain, expand_mask\n",
    "from nltools.stats import fdr, threshold\n",
    "\n",
    "from sklearn.metrics import pairwise_distances\n",
    "from sklearn.utils import check_random_state\n",
    "from sklearn.manifold import TSNE\n",
    "\n",
    "\n",
    "from nilearn.image import new_img_like\n",
    "\n",
    "from sklearn.preprocessing import StandardScaler\n",
    "\n",
    "import statsmodels.api as sm\n",
    "from statsmodels.formula.api import mixedlm\n",
    "from statsmodels.stats.multitest import multipletests\n",
    "import warnings\n",
    "warnings.filterwarnings('ignore')\n",
    "\n",
    "%matplotlib inline"
   ]
  },
  {
   "cell_type": "code",
   "execution_count": 2,
   "id": "bfdf6f22-31bf-4264-9572-3a851d71e99d",
   "metadata": {},
   "outputs": [],
   "source": [
    "from sklearn.preprocessing import StandardScaler\n",
    "from sklearn.linear_model import LinearRegression\n",
    "import numpy as np\n",
    "\n",
    "def regress_out(vec, control_matrices, upper_triangle_indices, standardize):\n",
    "    \"\"\"\n",
    "    对给定的向量进行回归，剥离控制变量的影响，先标准化再回归（可选）。\n",
    "    \n",
    "    参数:\n",
    "    - vec: np.array, 待剥离影响的向量\n",
    "    - control_matrices: list of np.array, 控制变量的矩阵列表\n",
    "    - upper_triangle_indices: tuple, 矩阵上三角的索引\n",
    "    - standardize: bool, 是否先标准化数据，默认值为 True\n",
    "    \n",
    "    返回:\n",
    "    - residuals: np.array, 回归后的残差\n",
    "    \"\"\"\n",
    "    if control_matrices is None or len(control_matrices) == 0:\n",
    "        return vec  # 如果没有控制变量，直接返回原始向量\n",
    "    \n",
    "    # 如果需要标准化，先标准化 vec\n",
    "    if standardize:\n",
    "        scaler = StandardScaler()\n",
    "        vec_scaled = scaler.fit_transform(vec.reshape(-1, 1)).flatten()\n",
    "    else:\n",
    "        vec_scaled = vec\n",
    "    \n",
    "    # 收集控制变量的标准化版本（如果需要）\n",
    "    control_vectors = []\n",
    "    for control_matrix in control_matrices:\n",
    "        control_vec = control_matrix[upper_triangle_indices]\n",
    "        if standardize:\n",
    "            control_vec_scaled = scaler.fit_transform(control_vec.reshape(-1, 1)).flatten()\n",
    "        else:\n",
    "            control_vec_scaled = control_vec\n",
    "        control_vectors.append(control_vec_scaled)\n",
    "    \n",
    "    # 拼接控制变量矩阵\n",
    "    control_matrix = np.column_stack(control_vectors)\n",
    "\n",
    "    # 执行回归\n",
    "    model = LinearRegression().fit(control_matrix, vec_scaled)\n",
    "    \n",
    "    # 计算残差\n",
    "    residuals = vec_scaled - model.predict(control_matrix)\n",
    "    \n",
    "    return residuals\n",
    "\n",
    "def mantel_with_multiple_controls(matrix1, matrix2, control_matrices=None, corr_type='spearman', permutations=1000, tail=2, standardize=True):\n",
    "    \"\"\"\n",
    "    执行带有多个控制变量的 Mantel Test，包含置换检验。\n",
    "    \n",
    "    参数:\n",
    "    - matrix1: np.array, 第一个距离矩阵 (NxN)\n",
    "    - matrix2: np.array, 第二个距离矩阵 (NxN)\n",
    "    - control_matrices: list of np.array, 控制变量的矩阵列表（默认为 None）\n",
    "    - permutations: int, 置换次数\n",
    "    - tail: int, p值的类型，1 表示单尾，2 表示双尾\n",
    "    \n",
    "    返回:\n",
    "    - r_obs: 观察到的 Pearson 或 Spearman 相关系数\n",
    "    - p_value: 置换检验的 p 值\n",
    "    \"\"\"\n",
    "    # 确保输入矩阵是方阵\n",
    "    assert matrix1.shape == matrix2.shape, \"两个矩阵的形状必须相同\"\n",
    "    assert matrix1.shape[0] == matrix1.shape[1], \"输入必须是方阵\"\n",
    "    \n",
    "    # 提取上三角部分（不包括对角线）\n",
    "    upper_triangle_indices = np.triu_indices_from(matrix1, k=1)\n",
    "    vec1 = matrix1[upper_triangle_indices]\n",
    "    vec2 = matrix2[upper_triangle_indices]\n",
    "    \n",
    "    # 对每个控制矩阵进行回归，剥离控制变量的影响\n",
    "    residuals1 = regress_out(vec1, control_matrices, upper_triangle_indices,standardize=standardize)\n",
    "    residuals2 = regress_out(vec2, control_matrices, upper_triangle_indices,standardize=standardize)\n",
    "    \n",
    "    # 计算观察到的相关系数\n",
    "    if corr_type == 'pearson':\n",
    "        r_obs, _ = pearsonr(residuals1, residuals2)\n",
    "    elif corr_type == 'spearman':\n",
    "        r_obs, _ = spearmanr(residuals1, residuals2)\n",
    "    \n",
    "    # 进行置换检验\n",
    "    permuted_r = []\n",
    "    n = matrix1.shape[0]\n",
    "    \n",
    "    for _ in range(permutations):\n",
    "        # 随机打乱行列索引\n",
    "        perm_indices = np.random.permutation(n)\n",
    "        \n",
    "        # 重新排列矩阵\n",
    "        perm_matrix2 = matrix2[np.ix_(perm_indices, perm_indices)]\n",
    "        \n",
    "        # 对每个控制变量矩阵也进行相同的置换（如果存在控制变量）\n",
    "        perm_control_matrices = []\n",
    "        if control_matrices is not None:\n",
    "            for control_matrix in control_matrices:\n",
    "                perm_control_matrix = control_matrix[np.ix_(perm_indices, perm_indices)]\n",
    "                perm_control_matrices.append(perm_control_matrix)\n",
    "        \n",
    "        # 提取置换后的上三角部分\n",
    "        perm_vec2 = perm_matrix2[upper_triangle_indices]\n",
    "        \n",
    "        # 对置换后的矩阵进行回归，剥离控制变量的影响\n",
    "        perm_residuals2 = regress_out(perm_vec2, perm_control_matrices, upper_triangle_indices, standardize=standardize)\n",
    "        \n",
    "        # 计算置换后的相关系数\n",
    "        if corr_type == 'pearson':\n",
    "            r_perm, _ = pearsonr(residuals1, perm_residuals2)\n",
    "        elif corr_type == 'spearman':\n",
    "            r_perm, _ = spearmanr(residuals1, perm_residuals2)\n",
    "        \n",
    "        permuted_r.append(r_perm)\n",
    "    \n",
    "    # 计算双尾或单尾 p 值\n",
    "    p_value = _calc_pvalue(np.array(permuted_r), r_obs, tail)\n",
    "    \n",
    "    return r_obs, p_value\n",
    "\n",
    "def _calc_pvalue(all_p, stat, tail):\n",
    "    \"\"\"计算基于置换分布的 p 值\n",
    "    \n",
    "    参数：\n",
    "    - all_p: 置换分布的相关系数列表\n",
    "    - stat: 观察到的统计量（如统计结果中的相关系数）\n",
    "    - tail: (int) 1 或 2，表示单尾或双尾 p 值\n",
    "    \n",
    "    返回：\n",
    "    - p_value: 计算得到的 p 值\n",
    "    \"\"\"\n",
    "    denom = float(len(all_p)) + 1\n",
    "    if tail == 1:\n",
    "        numer = np.sum(all_p >= stat) + 1 if stat >= 0 else np.sum(all_p <= stat) + 1\n",
    "    elif tail == 2:\n",
    "        numer = np.sum(np.abs(all_p) >= np.abs(stat)) + 1\n",
    "    else:\n",
    "        raise ValueError(\"tail 必须是 1 或 2\")\n",
    "    return numer / denom\n"
   ]
  },
  {
   "cell_type": "code",
   "execution_count": 3,
   "id": "d9e3f9a0-57a3-4fc4-9078-c3820fda1a61",
   "metadata": {},
   "outputs": [
    {
     "name": "stdout",
     "output_type": "stream",
     "text": [
      "all_brain_data.shape: (35, 1165, 200)\n",
      "brain_ISC_np.shape: (200, 35, 35)\n"
     ]
    },
    {
     "data": {
      "text/plain": [
       "<Axes: >"
      ]
     },
     "execution_count": 3,
     "metadata": {},
     "output_type": "execute_result"
    }
   ],
   "source": [
    "cor_brain_data = np.load('/Volumes/Li/task-persuade/braindata/denoised 5/parcel data/Schaefer align 5 runs/subs_data.npy')\n",
    "\n",
    "# sub_brain_data = np.load('/Users/li/Desktop/task-persuade/braindata/parcel data/Harvard Oxford stack 5 runs/subs_data.npy')\n",
    "# use_sub = [4, 5, 6, 7, 9, 10, 11, 15, 16, 17, 18, 19, 20, 21]\n",
    "# indices = [i - 1 for i in use_sub]\n",
    "# sub_brain_data = sub_brain_data[:, :, indices] \n",
    "# all_brain_data = all_brain_data = np.concatenate((cor_brain_data, sub_brain_data), axis=2)\n",
    "\n",
    "all_brain_data = cor_brain_data\n",
    "print('all_brain_data.shape:', all_brain_data.shape)\n",
    "brain_correlation_matrices = []\n",
    "\n",
    "for pacel in range(all_brain_data.shape[2]):\n",
    "    brain_correlation_matrices.append(Adjacency(1 - pairwise_distances(all_brain_data[:, :, pacel], metric='correlation'), matrix_type='similarity'))\n",
    "brain_ISC = Adjacency(brain_correlation_matrices)\n",
    "brain_ISC_np = np.array(brain_ISC.squareform())\n",
    "print('brain_ISC_np.shape:',brain_ISC_np.shape)\n",
    "brain_ISC_Z_np = np.arctanh(brain_ISC_np)\n",
    "\n",
    "mask_file = '/Users/li/Desktop/template/Schaefer/tpl-MNI152NLin2009cAsym_res-02_atlas-Schaefer2018_desc-200Parcels7Networks_dseg.nii.gz'\n",
    "mask_img = nib.load(mask_file)\n",
    "mask_data = mask_img.get_fdata()\n",
    "nw_labels = pd.read_csv('/Users/li/Desktop/template/Schaefer/Schaefer2018_200Parcels_7Networks_order_FSLMNI152_2mm.Centroid_RAS.csv')\n",
    "roi_name = list(nw_labels['ROI Name'])\n",
    "# + ['Left Thalamus','Left Caudate','Left Putamen','Left Pallidum','Left Hippocampus','Left Amygdala','Left Accumbens',\n",
    "#                                           'Right Thalamus','Right Caudate','Right Putamen','Right Pallidum','Right Hippocampus','Right Amygdala','Right Accumbens']\n",
    "\n",
    "\n",
    "sns.heatmap(brain_ISC_np.mean(axis=0))"
   ]
  },
  {
   "cell_type": "code",
   "execution_count": 4,
   "id": "b7f6e66c-0e82-40a9-ad4b-15af4705d695",
   "metadata": {},
   "outputs": [
    {
     "data": {
      "image/png": "[encoded data removed]",
      "text/plain": [
       "<Figure size 640x480 with 2 Axes>"
      ]
     },
     "metadata": {},
     "output_type": "display_data"
    }
   ],
   "source": [
    "\n",
    "array = brain_ISC_np.mean(axis=0)\n",
    "upper_triangle_elements = array[np.triu_indices(array.shape[0], k=1)]\n",
    "min_val = int(np.floor(upper_triangle_elements.min()))\n",
    "max_val = int(np.ceil(upper_triangle_elements.max()))\n",
    "\n",
    "# 设置 bins 为范围内的所有整数\n",
    "bins = np.arange(min_val, max_val+1)\n",
    "# 绘制上三角元素的直方图\n",
    "plt.hist(upper_triangle_elements, bins=20, edgecolor='black')\n",
    "plt.title('Histogram of Upper Triangular Elements')\n",
    "plt.xlabel('Value')\n",
    "plt.ylabel('Frequency')\n",
    "plt.show()\n"
   ]
  },
  {
   "cell_type": "code",
   "execution_count": 5,
   "id": "906b8fcd-f4d5-4f3d-881e-11a6723fc313",
   "metadata": {},
   "outputs": [
    {
     "name": "stdout",
     "output_type": "stream",
     "text": [
      "subs_change.shape: (35, 15)\n"
     ]
    },
    {
     "data": {
      "text/plain": [
       "<Axes: >"
      ]
     },
     "execution_count": 5,
     "metadata": {},
     "output_type": "execute_result"
    }
   ],
   "source": [
    "\n",
    "subs_change = pd.read_csv('/Users/li/Desktop/task-persuade/behavdata/subs_attitude_change.csv')\n",
    "subs_change = np.array(subs_change.iloc[:])[:,1:]\n",
    "\n",
    "print('subs_change.shape:',subs_change.shape)\n",
    "\n",
    "distances = -pdist(subs_change, metric='euclidean')\n",
    "dist_matrix = squareform(distances)\n",
    "\n",
    "\n",
    "change_SM = squareform(distances)\n",
    "\n",
    "sns.heatmap(change_SM, cmap='viridis', annot=False, square=True)\n"
   ]
  },
  {
   "cell_type": "code",
   "execution_count": 6,
   "id": "33a5b668-63e2-4cb0-81c6-0f44a9b05975",
   "metadata": {},
   "outputs": [
    {
     "data": {
      "image/png": "[encoded data removed]",
      "text/plain": [
       "<Figure size 640x480 with 2 Axes>"
      ]
     },
     "metadata": {},
     "output_type": "display_data"
    }
   ],
   "source": [
    "array = squareform(distances)\n",
    "upper_triangle_elements = array[np.triu_indices(array.shape[0], k=1)]\n",
    "min_val = int(np.floor(upper_triangle_elements.min()))\n",
    "max_val = int(np.ceil(upper_triangle_elements.max()))\n",
    "\n",
    "# 设置 bins 为范围内的所有整数\n",
    "bins = np.arange(min_val, max_val+1)\n",
    "# 绘制上三角元素的直方图\n",
    "plt.hist(upper_triangle_elements, bins=20, edgecolor='black')\n",
    "plt.title('Histogram of Attitude Change')\n",
    "plt.xlabel('Value')\n",
    "plt.ylabel('Frequency')\n",
    "plt.show()"
   ]
  },
  {
   "cell_type": "code",
   "execution_count": 7,
   "id": "b513d65c-c7c4-457c-9f60-fad518f22891",
   "metadata": {},
   "outputs": [
    {
     "name": "stdout",
     "output_type": "stream",
     "text": [
      "subs_pre.shape: (35, 15)\n",
      "subs_post.shape: (35, 15)\n"
     ]
    }
   ],
   "source": [
    "\n",
    "subs_pre = pd.read_csv('/Users/li/Desktop/task-persuade/behavdata/subs_pre_attitude.csv')\n",
    "subs_pre = np.array(subs_pre.iloc[:])[:,1:]\n",
    "print('subs_pre.shape:',subs_pre.shape)\n",
    "distances = -pdist(subs_pre, metric='euclidean')\n",
    "pre_SM = squareform(distances)\n",
    "\n",
    "subs_post = pd.read_csv('/Users/li/Desktop/task-persuade/behavdata/subs_post_attitude.csv')\n",
    "subs_post = np.array(subs_post.iloc[:])[:,1:]\n",
    "print('subs_post.shape:',subs_post.shape)\n",
    "distances = -pdist(subs_post, metric='euclidean')\n",
    "post_SM = squareform(distances)\n",
    "\n",
    "\n"
   ]
  },
  {
   "cell_type": "code",
   "execution_count": 8,
   "id": "2b009ade-c42a-4432-80ec-9f464680e085",
   "metadata": {},
   "outputs": [],
   "source": [
    "# 人格相似性\n",
    "\n",
    "csv_file = '/Users/li/Desktop/task-persuade/behavdata/questionnaire.csv'\n",
    "data = pd.read_csv(csv_file)\n",
    "\n",
    "big5_list = [f'e{x}' for x in range(1,61)]\n",
    "big5_items = data[big5_list]\n",
    "personality_SM = squareform(-pdist(big5_items, metric='euclidean'))\n",
    "# sns.heatmap(personality_SM)\n",
    "\n",
    "\n",
    "selected_data = pd.read_csv('/Users/li/Desktop/task-persuade/behavdata/personality.csv')\n",
    "ages = selected_data['age'].values\n",
    "age_diff_matrix = np.abs(ages[:, np.newaxis] - ages)\n",
    "\n",
    "sex = selected_data['sex'].values\n",
    "sex_diff_matrix = np.abs(sex[:, np.newaxis] - sex)\n",
    "\n",
    "IUS = selected_data['IUS'].values\n",
    "joint_IUS = (IUS[:, np.newaxis] + IUS)/2\n"
   ]
  },
  {
   "cell_type": "code",
   "execution_count": 9,
   "id": "21f84ab1-ab3e-4b99-9d62-40780df08de3",
   "metadata": {},
   "outputs": [
    {
     "data": {
      "text/plain": [
       "(0.14457145589257933, 0.0960290397096029)"
      ]
     },
     "execution_count": 9,
     "metadata": {},
     "output_type": "execute_result"
    }
   ],
   "source": [
    "mantel_with_multiple_controls(change_SM, brain_ISC_Z_np[83],\n",
    "                                        standardize=True, corr_type='pearson',\n",
    "                                        # control_matrices = [pre_SM, sex_diff_matrix, age_diff_matrix], \n",
    "                                        permutations=100000,tail=2)"
   ]
  },
  {
   "cell_type": "code",
   "execution_count": 10,
   "id": "20425936-acb4-4c12-9cf0-e3f8633add65",
   "metadata": {},
   "outputs": [
    {
     "data": {
      "text/plain": [
       "(0.15135201469443607, 0.07171928280717192)"
      ]
     },
     "execution_count": 10,
     "metadata": {},
     "output_type": "execute_result"
    }
   ],
   "source": [
    "mantel_with_multiple_controls(change_SM, brain_ISC_Z_np[83],\n",
    "                                        standardize=True, corr_type='pearson',\n",
    "                                        control_matrices = [pre_SM, sex_diff_matrix, age_diff_matrix], \n",
    "                                        permutations=100000,tail=2)"
   ]
  },
  {
   "cell_type": "code",
   "execution_count": 9,
   "id": "a8556e7d-de71-4049-b7d9-3ac4de941900",
   "metadata": {},
   "outputs": [
    {
     "name": "stdout",
     "output_type": "stream",
     "text": [
      "8,0.210,0.029197080291970802\n",
      "23,0.157,0.007499250074992501\n",
      "25,0.119,0.019998000199980003\n",
      "33,0.150,0.019998000199980003\n",
      "44,0.179,0.004999500049995001\n",
      "45,0.133,0.04609539046095391\n",
      "52,0.147,0.037396260373962605\n",
      "53,0.160,0.0435956404359564\n",
      "66,0.166,0.026697330266973303\n",
      "77,0.238,0.045795420457954206\n",
      "89,0.157,0.035896410358964105\n",
      "91,0.161,0.03189681031896811\n",
      "103,0.233,0.0201979802019798\n",
      "110,0.219,0.042195780421957804\n",
      "123,0.116,0.044795520447955206\n",
      "127,0.123,0.0410958904109589\n",
      "128,0.134,0.026697330266973303\n",
      "135,0.282,0.006199380061993801\n",
      "136,0.171,0.010498950104989501\n",
      "137,0.315,0.0034996500349965005\n",
      "153,0.194,0.0093990600939906\n",
      "164,0.220,0.017198280171982803\n",
      "165,0.213,0.0408959104089591\n",
      "168,0.152,0.030296970302969704\n",
      "180,0.168,0.0352964703529647\n",
      "187,0.205,0.0324967503249675\n",
      "194,0.146,0.025197480251974803\n",
      "195,0.154,0.0461953804619538\n"
     ]
    }
   ],
   "source": [
    "\n",
    "rlist1, plist1 = [],[]\n",
    "for roi in range(200):\n",
    "\n",
    "    r, p = mantel_with_multiple_controls(change_SM, brain_ISC_Z_np[roi],\n",
    "                                        standardize=True, corr_type='pearson',\n",
    "                                        control_matrices = [pre_SM, sex_diff_matrix, age_diff_matrix], \n",
    "                                        permutations=10000,tail=2)\n",
    "    if p <0.05:\n",
    "        print(f'{roi},{r:.3f},{p}')\n",
    "\n",
    "    rlist1.append(r)\n",
    "    plist1.append(p)\n",
    "\n"
   ]
  },
  {
   "cell_type": "code",
   "execution_count": 10,
   "id": "782bfa41-cf9a-4aea-b6d7-f96009ece703",
   "metadata": {},
   "outputs": [
    {
     "name": "stdout",
     "output_type": "stream",
     "text": [
      "8,0.214,0.0334966503349665\n",
      "23,0.164,0.006099390060993901\n",
      "25,0.134,0.0096990300969903\n",
      "33,0.154,0.024197580241975804\n",
      "44,0.166,0.0122987701229877\n",
      "52,0.146,0.044195580441955803\n",
      "66,0.189,0.0202979702029797\n",
      "82,0.143,0.047295270472952705\n",
      "89,0.172,0.025597440255974404\n",
      "102,0.253,0.047995200479952004\n",
      "103,0.229,0.0292970702929707\n",
      "105,0.244,0.04609539046095391\n",
      "127,0.131,0.032596740325967405\n",
      "128,0.158,0.010498950104989501\n",
      "130,0.120,0.036396360363963605\n",
      "135,0.256,0.0143985601439856\n",
      "136,0.174,0.013798620137986202\n",
      "137,0.326,0.0026997300269973002\n",
      "153,0.201,0.013498650134986502\n",
      "164,0.211,0.027597240275972403\n",
      "165,0.214,0.0466953304669533\n",
      "168,0.153,0.0341965803419658\n",
      "180,0.158,0.04659534046595341\n",
      "195,0.162,0.04989501049895011\n"
     ]
    }
   ],
   "source": [
    "rlist2, plist2 = [],[]\n",
    "for roi in range(200):\n",
    "    r, p = mantel_with_multiple_controls(change_SM, brain_ISC_Z_np[roi],\n",
    "                                        standardize=True, corr_type='pearson',\n",
    "                                        # control_matrices = [pre_SM, sex_diff_matrix, age_diff_matrix], \n",
    "                                        permutations=10000,tail=2)\n",
    "    if p <0.05:\n",
    "        print(f'{roi},{r:.3f},{p}')\n",
    "\n",
    "    rlist2.append(r)\n",
    "    plist2.append(p)"
   ]
  },
  {
   "cell_type": "code",
   "execution_count": 11,
   "id": "5922d7f4-6457-4bc1-88fe-aa29a5ccce85",
   "metadata": {},
   "outputs": [
    {
     "name": "stdout",
     "output_type": "stream",
     "text": [
      "8,0.201,0.0292970702929707\n",
      "23,0.165,0.0033996600339966003\n",
      "25,0.121,0.0165983401659834\n",
      "44,0.153,0.011398860113988602\n",
      "45,0.131,0.0463953604639536\n",
      "103,0.224,0.0206979302069793\n",
      "110,0.223,0.0332966703329667\n",
      "111,0.213,0.049095090490950906\n",
      "127,0.117,0.04509549045095491\n",
      "135,0.258,0.009299070092990702\n",
      "136,0.146,0.025697430256974303\n",
      "137,0.287,0.0036996300369963003\n",
      "153,0.169,0.022397760223977603\n",
      "154,0.129,0.0405959404059594\n",
      "164,0.218,0.0122987701229877\n",
      "165,0.205,0.04129587041295871\n",
      "168,0.137,0.043195680431956804\n",
      "180,0.163,0.0268973102689731\n",
      "187,0.208,0.030996900309969003\n",
      "194,0.141,0.0206979302069793\n",
      "196,0.134,0.024897510248975102\n"
     ]
    }
   ],
   "source": [
    "\n",
    "rlist3, plist3 = [],[]\n",
    "for roi in range(200):\n",
    "\n",
    "    r, p = mantel_with_multiple_controls(change_SM, brain_ISC_Z_np[roi],\n",
    "                                        standardize=True, corr_type='spearman',\n",
    "                                        control_matrices = [pre_SM, sex_diff_matrix, age_diff_matrix], \n",
    "                                        permutations=10000,tail=2)\n",
    "    if p <0.05:\n",
    "        print(f'{roi},{r:.3f},{p}')\n",
    "\n",
    "    rlist3.append(r)\n",
    "    plist3.append(p)\n",
    "\n"
   ]
  },
  {
   "cell_type": "code",
   "execution_count": 12,
   "id": "c786d289-1053-4825-9dcb-f14424399631",
   "metadata": {},
   "outputs": [
    {
     "name": "stdout",
     "output_type": "stream",
     "text": [
      "8,0.206,0.031096890310968902\n",
      "9,0.162,0.036396360363963605\n",
      "23,0.170,0.0037996200379962005\n",
      "25,0.132,0.0105989401059894\n",
      "33,0.129,0.04559544045595441\n",
      "44,0.139,0.027497250274972504\n",
      "66,0.158,0.04129587041295871\n",
      "71,0.182,0.04509549045095491\n",
      "89,0.159,0.033596640335966405\n",
      "103,0.214,0.0301969803019698\n",
      "127,0.116,0.0471952804719528\n",
      "128,0.139,0.0226977302269773\n",
      "135,0.239,0.0201979802019798\n",
      "136,0.151,0.024197580241975804\n",
      "137,0.304,0.0035996400359964\n",
      "153,0.184,0.0160983901609839\n",
      "154,0.138,0.0282971702829717\n",
      "164,0.211,0.0188981101889811\n",
      "165,0.211,0.04129587041295871\n",
      "168,0.137,0.04279572042795721\n",
      "194,0.135,0.042195780421957804\n"
     ]
    }
   ],
   "source": [
    "\n",
    "rlist4, plist4 = [],[]\n",
    "for roi in range(200):\n",
    "\n",
    "    r, p = mantel_with_multiple_controls(change_SM, brain_ISC_Z_np[roi],\n",
    "                                        standardize=True, corr_type='spearman',\n",
    "                                        # control_matrices = [pre_SM, sex_diff_matrix, age_diff_matrix], \n",
    "                                        permutations=10000,tail=2)\n",
    "    if p <0.05:\n",
    "        print(f'{roi},{r:.3f},{p}')\n",
    "\n",
    "    rlist4.append(r)\n",
    "    plist4.append(p)\n",
    "\n"
   ]
  },
  {
   "cell_type": "code",
   "execution_count": 13,
   "id": "e1670266-ba5d-44ba-aa4a-67d3bd736285",
   "metadata": {},
   "outputs": [],
   "source": [
    "result_data = {\n",
    "    'pearson control': rlist1,\n",
    "    'p1': plist1,\n",
    "    'pearson no-control': rlist2,\n",
    "    'p2': plist2,\n",
    "    'spearman control': rlist3,\n",
    "    'p3': plist3,\n",
    "    'spearman no-control': rlist4,\n",
    "    'p4': plist4\n",
    "}\n",
    "\n",
    "result_data_df = pd.DataFrame(result_data)\n",
    "\n",
    "result_data_df.to_csv('/Users/li/Desktop/debate2025/results/ISC-ISRSA-Exp2.csv', index=False)"
   ]
  },
  {
   "cell_type": "code",
   "execution_count": 14,
   "id": "5f133822-3ee2-4292-9852-06eaeba272a5",
   "metadata": {},
   "outputs": [
    {
     "data": {
      "text/plain": [
       "(0.13761881600989334, 0.06165938340616594)"
      ]
     },
     "execution_count": 14,
     "metadata": {},
     "output_type": "execute_result"
    }
   ],
   "source": [
    "mantel_with_multiple_controls(change_SM, brain_ISC_Z_np[89],\n",
    "                                        standardize=True, corr_type='spearman',\n",
    "                                        control_matrices = [pre_SM, sex_diff_matrix, age_diff_matrix], \n",
    "                                        permutations=100000,tail=2)"
   ]
  },
  {
   "cell_type": "code",
   "execution_count": 4,
   "id": "b1d8a968-b045-47ee-81ca-c500ed631c02",
   "metadata": {},
   "outputs": [
    {
     "ename": "UFuncTypeError",
     "evalue": "ufunc 'add' did not contain a loop with signature matching types (dtype('<U3'), dtype('<U3')) -> None",
     "output_type": "error",
     "traceback": [
      "\u001b[0;31m---------------------------------------------------------------------------\u001b[0m",
      "\u001b[0;31mUFuncTypeError\u001b[0m                            Traceback (most recent call last)",
      "Cell \u001b[0;32mIn[4], line 47\u001b[0m\n\u001b[1;32m     45\u001b[0m edges_color \u001b[38;5;241m=\u001b[39m []\n\u001b[1;32m     46\u001b[0m \u001b[38;5;28;01mfor\u001b[39;00m u, v \u001b[38;5;129;01min\u001b[39;00m G\u001b[38;5;241m.\u001b[39medges():\n\u001b[0;32m---> 47\u001b[0m     color \u001b[38;5;241m=\u001b[39m np\u001b[38;5;241m.\u001b[39mmean([node_colors[u], node_colors[v]], axis\u001b[38;5;241m=\u001b[39m\u001b[38;5;241m0\u001b[39m)\n\u001b[1;32m     48\u001b[0m     edges_color\u001b[38;5;241m.\u001b[39mappend(color)\n\u001b[1;32m     50\u001b[0m \u001b[38;5;66;03m# 绘制图形\u001b[39;00m\n",
      "File \u001b[0;32m/opt/anaconda3/lib/python3.11/site-packages/numpy/core/fromnumeric.py:3504\u001b[0m, in \u001b[0;36mmean\u001b[0;34m(a, axis, dtype, out, keepdims, where)\u001b[0m\n\u001b[1;32m   3501\u001b[0m     \u001b[38;5;28;01melse\u001b[39;00m:\n\u001b[1;32m   3502\u001b[0m         \u001b[38;5;28;01mreturn\u001b[39;00m mean(axis\u001b[38;5;241m=\u001b[39maxis, dtype\u001b[38;5;241m=\u001b[39mdtype, out\u001b[38;5;241m=\u001b[39mout, \u001b[38;5;241m*\u001b[39m\u001b[38;5;241m*\u001b[39mkwargs)\n\u001b[0;32m-> 3504\u001b[0m \u001b[38;5;28;01mreturn\u001b[39;00m _methods\u001b[38;5;241m.\u001b[39m_mean(a, axis\u001b[38;5;241m=\u001b[39maxis, dtype\u001b[38;5;241m=\u001b[39mdtype,\n\u001b[1;32m   3505\u001b[0m                       out\u001b[38;5;241m=\u001b[39mout, \u001b[38;5;241m*\u001b[39m\u001b[38;5;241m*\u001b[39mkwargs)\n",
      "File \u001b[0;32m/opt/anaconda3/lib/python3.11/site-packages/numpy/core/_methods.py:118\u001b[0m, in \u001b[0;36m_mean\u001b[0;34m(a, axis, dtype, out, keepdims, where)\u001b[0m\n\u001b[1;32m    115\u001b[0m         dtype \u001b[38;5;241m=\u001b[39m mu\u001b[38;5;241m.\u001b[39mdtype(\u001b[38;5;124m'\u001b[39m\u001b[38;5;124mf4\u001b[39m\u001b[38;5;124m'\u001b[39m)\n\u001b[1;32m    116\u001b[0m         is_float16_result \u001b[38;5;241m=\u001b[39m \u001b[38;5;28;01mTrue\u001b[39;00m\n\u001b[0;32m--> 118\u001b[0m ret \u001b[38;5;241m=\u001b[39m umr_sum(arr, axis, dtype, out, keepdims, where\u001b[38;5;241m=\u001b[39mwhere)\n\u001b[1;32m    119\u001b[0m \u001b[38;5;28;01mif\u001b[39;00m \u001b[38;5;28misinstance\u001b[39m(ret, mu\u001b[38;5;241m.\u001b[39mndarray):\n\u001b[1;32m    120\u001b[0m     \u001b[38;5;28;01mwith\u001b[39;00m _no_nep50_warning():\n",
      "\u001b[0;31mUFuncTypeError\u001b[0m: ufunc 'add' did not contain a loop with signature matching types (dtype('<U3'), dtype('<U3')) -> None"
     ]
    }
   ],
   "source": [
    "import networkx as nx\n",
    "import matplotlib.pyplot as plt\n",
    "import numpy as np\n",
    "import matplotlib.colors as mcolors\n",
    "\n",
    "# 生成一个示例无向图（连接矩阵可以替换为实际数据）\n",
    "# 假设有21个节点，分成7组，每组有3个节点\n",
    "G = nx.Graph()\n",
    "\n",
    "# 假设有一个简单的连接矩阵，连接权重从1到5之间随机\n",
    "adj_matrix = np.random.randint(1, 6, size=(21, 21))\n",
    "np.fill_diagonal(adj_matrix, 0)  # 保证对角线为0（无自环）\n",
    "\n",
    "# 将连接矩阵应用于图（使用 from_numpy_array）\n",
    "G = nx.from_numpy_array(adj_matrix)\n",
    "\n",
    "# 定义7组节点（每组3个节点）\n",
    "groups = {\n",
    "    0: [0, 1, 2],\n",
    "    1: [3, 4, 5],\n",
    "    2: [6, 7, 8],\n",
    "    3: [9, 10, 11],\n",
    "    4: [12, 13, 14],\n",
    "    5: [15, 16, 17],\n",
    "    6: [18, 19, 20]\n",
    "}\n",
    "\n",
    "# 为每组节点指定不同的颜色\n",
    "group_colors = ['red', 'green', 'blue', 'orange', 'purple', 'cyan', 'yellow']\n",
    "\n",
    "# 创建一个节点颜色的映射\n",
    "node_colors = []\n",
    "for i in range(G.number_of_nodes()):\n",
    "    for group_id, nodes in groups.items():\n",
    "        if i in nodes:\n",
    "            node_colors.append(group_colors[group_id])\n",
    "\n",
    "# 获取边的权重，并用权重来设置边的粗细\n",
    "edge_widths = [G[u][v]['weight'] for u, v in G.edges()]\n",
    "\n",
    "# 创建圆形布局\n",
    "pos = nx.circular_layout(G)\n",
    "\n",
    "# 获取边的颜色，基于节点颜色进行渐变\n",
    "edges_color = []\n",
    "for u, v in G.edges():\n",
    "    color = np.mean([node_colors[u], node_colors[v]], axis=0)\n",
    "    edges_color.append(color)\n",
    "\n",
    "# 绘制图形\n",
    "plt.figure(figsize=(10, 10))\n",
    "\n",
    "# 绘制边，边的颜色是基于节点颜色的渐变\n",
    "edge_colors = []\n",
    "for u, v in G.edges():\n",
    "    # 计算边的颜色渐变（这里简单取两个节点颜色的均值）\n",
    "    edge_colors.append(node_colors[u])  # 简单地用起始节点的颜色作为边的颜色\n",
    "\n",
    "# 绘制边，线条的宽度由权重决定\n",
    "nx.draw_networkx_edges(G, pos=pos, width=edge_widths, edge_color=edge_colors, alpha=0.7)\n",
    "\n",
    "# 绘制节点，节点颜色由所属组决定\n",
    "nx.draw_networkx_nodes(G, pos=pos, node_color=node_colors, node_size=500)\n",
    "\n",
    "# 绘制标签\n",
    "nx.draw_networkx_labels(G, pos=pos, font_size=10, font_weight='bold')\n",
    "\n",
    "# 设置标题并显示图形\n",
    "plt.title(\"Social Network Visualization with Circular Layout and Edge Color Gradient\")\n",
    "plt.axis('off')  # 关闭坐标轴\n",
    "plt.show()\n"
   ]
  }
 ],
 "metadata": {
  "kernelspec": {
   "display_name": "Python 3 (ipykernel)",
   "language": "python",
   "name": "python3"
  },
  "language_info": {
   "codemirror_mode": {
    "name": "ipython",
    "version": 3
   },
   "file_extension": ".py",
   "mimetype": "text/x-python",
   "name": "python",
   "nbconvert_exporter": "python",
   "pygments_lexer": "ipython3",
   "version": "3.12.7"
  }
 },
 "nbformat": 4,
 "nbformat_minor": 5
}
